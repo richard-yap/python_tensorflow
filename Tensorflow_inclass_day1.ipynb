{
  "nbformat": 4,
  "nbformat_minor": 0,
  "metadata": {
    "colab": {
      "name": "Tensorflow_inclass_day1.ipynb",
      "provenance": [],
      "collapsed_sections": []
    },
    "kernelspec": {
      "name": "python3",
      "display_name": "Python 3"
    }
  },
  "cells": [
    {
      "cell_type": "code",
      "metadata": {
        "id": "XDzxFH5bfKcT",
        "colab_type": "code",
        "outputId": "94d2f884-bc4f-4ef0-b3a5-e4b88dba2b1e",
        "colab": {
          "base_uri": "https://localhost:8080/",
          "height": 35
        }
      },
      "source": [
        "ls"
      ],
      "execution_count": 0,
      "outputs": [
        {
          "output_type": "stream",
          "text": [
            "\u001b[0m\u001b[01;34msample_data\u001b[0m/\n"
          ],
          "name": "stdout"
        }
      ]
    },
    {
      "cell_type": "code",
      "metadata": {
        "id": "yszywjBMfLSq",
        "colab_type": "code",
        "outputId": "0fa7c504-ec0a-4c0f-8219-4f428cc1e590",
        "colab": {
          "base_uri": "https://localhost:8080/",
          "height": 127
        }
      },
      "source": [
        "from google.colab import drive\n",
        "drive.mount('/content/drive/')"
      ],
      "execution_count": 0,
      "outputs": [
        {
          "output_type": "stream",
          "text": [
            "Go to this URL in a browser: https://accounts.google.com/o/oauth2/auth?client_id=947318989803-6bn6qk8qdgf4n4g3pfee6491hc0brc4i.apps.googleusercontent.com&redirect_uri=urn%3Aietf%3Awg%3Aoauth%3A2.0%3Aoob&scope=email%20https%3A%2F%2Fwww.googleapis.com%2Fauth%2Fdocs.test%20https%3A%2F%2Fwww.googleapis.com%2Fauth%2Fdrive%20https%3A%2F%2Fwww.googleapis.com%2Fauth%2Fdrive.photos.readonly%20https%3A%2F%2Fwww.googleapis.com%2Fauth%2Fpeopleapi.readonly&response_type=code\n",
            "\n",
            "Enter your authorization code:\n",
            "··········\n",
            "Mounted at /content/drive/\n"
          ],
          "name": "stdout"
        }
      ]
    },
    {
      "cell_type": "code",
      "metadata": {
        "id": "l1hA9b-EfQl5",
        "colab_type": "code",
        "outputId": "854a3c1c-4989-4067-a774-7c70e92bda21",
        "colab": {
          "base_uri": "https://localhost:8080/",
          "height": 35
        }
      },
      "source": [
        "ls"
      ],
      "execution_count": 0,
      "outputs": [
        {
          "output_type": "stream",
          "text": [
            "\u001b[0m\u001b[01;34mdrive\u001b[0m/  \u001b[01;34msample_data\u001b[0m/\n"
          ],
          "name": "stdout"
        }
      ]
    },
    {
      "cell_type": "code",
      "metadata": {
        "id": "ujIRUND-fcdh",
        "colab_type": "code",
        "outputId": "58e71827-7137-4e3e-ed5c-b96160afb5e4",
        "colab": {
          "base_uri": "https://localhost:8080/",
          "height": 35
        }
      },
      "source": [
        "cd drive/My\\ Drive"
      ],
      "execution_count": 0,
      "outputs": [
        {
          "output_type": "stream",
          "text": [
            "/content/drive/My Drive\n"
          ],
          "name": "stdout"
        }
      ]
    },
    {
      "cell_type": "code",
      "metadata": {
        "id": "zxuZscIafjXT",
        "colab_type": "code",
        "outputId": "9dca6d8d-5ee3-45f2-f0fa-bb0d4c11340e",
        "colab": {
          "base_uri": "https://localhost:8080/",
          "height": 107
        }
      },
      "source": [
        "ls"
      ],
      "execution_count": 0,
      "outputs": [
        {
          "output_type": "stream",
          "text": [
            "'Business Model Canvas.gdoc'  'Leftovers .gdoc'\n",
            " \u001b[0m\u001b[01;34mCITREP_Data+Code\u001b[0m/            'Oral Presentation.gdoc'\n",
            " \u001b[01;34mClassroom\u001b[0m/                   'Quality Control.gdoc'\n",
            "\u001b[01;34m'Colab Notebooks'\u001b[0m/            'Quality Control Slides.gslides'\n",
            "'Getting started.pdf'\n"
          ],
          "name": "stdout"
        }
      ]
    },
    {
      "cell_type": "code",
      "metadata": {
        "id": "ZPhpazcWfkTf",
        "colab_type": "code",
        "outputId": "d439ec78-1b68-490e-c8e2-2c7080171056",
        "colab": {
          "base_uri": "https://localhost:8080/",
          "height": 35
        }
      },
      "source": [
        "cd CITREP_Data+Code/"
      ],
      "execution_count": 0,
      "outputs": [
        {
          "output_type": "stream",
          "text": [
            "/content/drive/My Drive/CITREP_Data+Code\n"
          ],
          "name": "stdout"
        }
      ]
    },
    {
      "cell_type": "code",
      "metadata": {
        "id": "TGgaIPcxfniu",
        "colab_type": "code",
        "outputId": "f42f5b8c-2bba-4745-ebfc-ef1457bab8f9",
        "colab": {
          "base_uri": "https://localhost:8080/",
          "height": 451
        }
      },
      "source": [
        "ls"
      ],
      "execution_count": 0,
      "outputs": [
        {
          "output_type": "stream",
          "text": [
            " 2a-TensorFlow-Data-Loading.ipynb\n",
            " 2b-TensorFlow-ML.ipynb\n",
            " 3a-TF-FcNN-MNIST.ipynb\n",
            " 3b-TF-FcNN-MNIST-Exercise.ipynb\n",
            " 3c-FcNN-CIFAR10.ipynb\n",
            " 3d-FcNN-CIFAR10-Exercise.ipynb\n",
            " 3-diabetic-NeuralNet-Exercise-TF.ipynb\n",
            " 3e-keras-FCNN-MNIST.ipynb\n",
            " 3f-keras-FcNN-dogscats.ipynb\n",
            " 3g-keras-FcNN-bloodcell-Exercise.ipynb\n",
            " 3h-keras-FC-AutoEncoder.ipynb\n",
            " 4a-MNIST-CNN-TF.ipynb\n",
            " 4b-CIFAR10-CNN-TF-Exercise.ipynb\n",
            " 5a-keras-CNN-dogscats.ipynb\n",
            " 5b-keras-CNN-Bloodcell.ipynb\n",
            " 5c-keras-Con-AutoEncoder.ipynb\n",
            " 5d-keras-Vgg16-dogscats.ipynb\n",
            " 5e-Resnet50-keras-dogscats-Exercise.ipynb\n",
            " 6-Semeion-Classification-SimpleCNN-Exercise.ipynb\n",
            " 7-RNN-IMDB.ipynb\n",
            "'CITREP+ - Clarence & Dr Sudipta - Deep Learning with Tensorflow and Python - v2.pdf'\n",
            " \u001b[0m\u001b[01;34mData\u001b[0m/\n",
            " tensorboard.ipynb\n"
          ],
          "name": "stdout"
        }
      ]
    },
    {
      "cell_type": "code",
      "metadata": {
        "id": "ljGO6NmIfoKT",
        "colab_type": "code",
        "outputId": "551b3c6e-6bf8-4452-8bfd-3b88540666fe",
        "colab": {
          "base_uri": "https://localhost:8080/",
          "height": 35
        }
      },
      "source": [
        "import tensorflow as tf\n",
        "print(tf.__version__)"
      ],
      "execution_count": 0,
      "outputs": [
        {
          "output_type": "stream",
          "text": [
            "1.14.0\n"
          ],
          "name": "stdout"
        }
      ]
    },
    {
      "cell_type": "code",
      "metadata": {
        "id": "5qDHf-yPgBt-",
        "colab_type": "code",
        "outputId": "e61ce765-a4fb-4b16-85df-b851d8b4c14a",
        "colab": {
          "base_uri": "https://localhost:8080/",
          "height": 35
        }
      },
      "source": [
        "a=1\n",
        "b=2\n",
        "c= a+b\n",
        "print(a,b,c)"
      ],
      "execution_count": 0,
      "outputs": [
        {
          "output_type": "stream",
          "text": [
            "1 2 3\n"
          ],
          "name": "stdout"
        }
      ]
    },
    {
      "cell_type": "code",
      "metadata": {
        "id": "lxe-MBdchMpD",
        "colab_type": "code",
        "outputId": "6778dbea-a399-49e7-dace-b2b5d18bb8dc",
        "colab": {
          "base_uri": "https://localhost:8080/",
          "height": 71
        }
      },
      "source": [
        "#meanwhile in tensorflow:\n",
        "a = tf.constant(1)\n",
        "b = tf.constant(2)\n",
        "c = tf.add(a,b)\n",
        "print(a)\n",
        "print(b)\n",
        "print(c)"
      ],
      "execution_count": 0,
      "outputs": [
        {
          "output_type": "stream",
          "text": [
            "Tensor(\"Const_2:0\", shape=(), dtype=int32)\n",
            "Tensor(\"Const_3:0\", shape=(), dtype=int32)\n",
            "Tensor(\"Add_1:0\", shape=(), dtype=int32)\n"
          ],
          "name": "stdout"
        }
      ]
    },
    {
      "cell_type": "code",
      "metadata": {
        "id": "_JIPprAnhXih",
        "colab_type": "code",
        "colab": {}
      },
      "source": [
        "#Within tensorflow you have to run a session, if not you won't be able to run \n",
        "#run session:\n",
        "#just run this once\n",
        "sess = tf.Session()\n"
      ],
      "execution_count": 0,
      "outputs": []
    },
    {
      "cell_type": "code",
      "metadata": {
        "id": "Fof3PDX_h5UA",
        "colab_type": "code",
        "outputId": "4732a7c1-2905-4346-ba6c-1be9d964eb65",
        "colab": {
          "base_uri": "https://localhost:8080/",
          "height": 71
        }
      },
      "source": [
        "print(sess.run(a))\n",
        "print(sess.run(b))\n",
        "print(sess.run(c))\n",
        "\n",
        "#within tensorflow, you won't be able to run different data types"
      ],
      "execution_count": 0,
      "outputs": [
        {
          "output_type": "stream",
          "text": [
            "1\n",
            "2\n",
            "3\n"
          ],
          "name": "stdout"
        }
      ]
    },
    {
      "cell_type": "code",
      "metadata": {
        "id": "j5ScjMXkh-i2",
        "colab_type": "code",
        "outputId": "3e562e6c-b1c7-4399-dcd7-d991dbdd0243",
        "colab": {
          "base_uri": "https://localhost:8080/",
          "height": 35
        }
      },
      "source": [
        "#or\n",
        "with tf.Session() as sess:\n",
        "  print(sess.run(a))"
      ],
      "execution_count": 0,
      "outputs": [
        {
          "output_type": "stream",
          "text": [
            "1\n"
          ],
          "name": "stdout"
        }
      ]
    },
    {
      "cell_type": "code",
      "metadata": {
        "id": "X-b-GC5Xi08r",
        "colab_type": "code",
        "colab": {}
      },
      "source": [
        "sess = tf.Session()\n",
        "\n",
        "a = tf.constant(1, dtype=tf.float32)\n",
        "b = tf.constant(2.5)\n",
        "c = tf.add(a,b)\n",
        "d = tf.floordiv(a,b)"
      ],
      "execution_count": 0,
      "outputs": []
    },
    {
      "cell_type": "code",
      "metadata": {
        "id": "BCQjJGnUi_6d",
        "colab_type": "code",
        "outputId": "8f088cf8-35c3-46ae-8f35-fd066b262d7d",
        "colab": {
          "base_uri": "https://localhost:8080/",
          "height": 89
        }
      },
      "source": [
        "print(sess.run(a))\n",
        "print(sess.run(b))\n",
        "print(sess.run(c))\n",
        "print(sess.run(d))"
      ],
      "execution_count": 0,
      "outputs": [
        {
          "output_type": "stream",
          "text": [
            "1.0\n",
            "2.5\n",
            "3.5\n",
            "0.0\n"
          ],
          "name": "stdout"
        }
      ]
    },
    {
      "cell_type": "code",
      "metadata": {
        "id": "h4p14RnsjjgE",
        "colab_type": "code",
        "outputId": "aeaadbe8-6f8a-4895-c47f-89b142f6796c",
        "colab": {
          "base_uri": "https://localhost:8080/",
          "height": 35
        }
      },
      "source": [
        "#exercise\n",
        "sess = tf.Session()\n",
        "\n",
        "a = tf.constant(3, dtype = tf.float32)\n",
        "b = tf.constant(4.1, dtype = tf.float32)\n",
        "c = tf.constant(5, dtype = tf.float32)\n",
        "\n",
        "d = tf.add(tf.multiply(a,b), c) \n",
        "print(sess.run(d))"
      ],
      "execution_count": 0,
      "outputs": [
        {
          "output_type": "stream",
          "text": [
            "17.3\n"
          ],
          "name": "stdout"
        }
      ]
    },
    {
      "cell_type": "code",
      "metadata": {
        "id": "AnFA6gIbluBj",
        "colab_type": "code",
        "outputId": "112f1435-0e66-435d-f76a-a7099ad83e87",
        "colab": {
          "base_uri": "https://localhost:8080/",
          "height": 71
        }
      },
      "source": [
        "#building a matrix:\n",
        "#make sure to put two brackets\n",
        "a = tf.constant([[1,2,3], [4,5,6], [7,8,9]])\n",
        "print(sess.run(a))"
      ],
      "execution_count": 0,
      "outputs": [
        {
          "output_type": "stream",
          "text": [
            "[[1 2 3]\n",
            " [4 5 6]\n",
            " [7 8 9]]\n"
          ],
          "name": "stdout"
        }
      ]
    },
    {
      "cell_type": "code",
      "metadata": {
        "id": "gbeipRNBl5l9",
        "colab_type": "code",
        "outputId": "a2bf9734-554e-4def-81e8-98efdab50fcf",
        "colab": {
          "base_uri": "https://localhost:8080/",
          "height": 35
        }
      },
      "source": [
        "print(sess.run(tf.shape(a)))"
      ],
      "execution_count": 0,
      "outputs": [
        {
          "output_type": "stream",
          "text": [
            "[3 3]\n"
          ],
          "name": "stdout"
        }
      ]
    },
    {
      "cell_type": "code",
      "metadata": {
        "id": "ky1UWT4gmQF0",
        "colab_type": "code",
        "outputId": "8a1ca24c-ec98-412c-cf0e-06377fa4f5c3",
        "colab": {
          "base_uri": "https://localhost:8080/",
          "height": 53
        }
      },
      "source": [
        "#to slice the data \n",
        "# [0, 1] is index of [row, column]\n",
        "#[2, 2] is the dimensions that you want the data to be cut\n",
        "print(sess.run(tf.slice(a, [0, 1], [2, 2])))"
      ],
      "execution_count": 0,
      "outputs": [
        {
          "output_type": "stream",
          "text": [
            "[[2 3]\n",
            " [5 6]]\n"
          ],
          "name": "stdout"
        }
      ]
    },
    {
      "cell_type": "code",
      "metadata": {
        "id": "xjbsZKq_rSAk",
        "colab_type": "code",
        "colab": {}
      },
      "source": [
        "#matrix operators:\n",
        "a = tf.constant([[1,2,3], [4,5,6], [7,8,9]])\n",
        "# Transpose - tf.transpose(a) \n",
        "# Inverse - tf.matrix_inverse(a) \n",
        "# Dot Product – tf.tensordot(a,b, axes=0) \n",
        "# Matrix Multiplication - tf.matmul(a, b) \n",
        "# Solve A.x = b - tf.matrix_solve(A,b)"
      ],
      "execution_count": 0,
      "outputs": []
    },
    {
      "cell_type": "code",
      "metadata": {
        "id": "TZQ2iPRvoZnB",
        "colab_type": "code",
        "colab": {}
      },
      "source": [
        "#exercise matrix\n",
        "x = [[1.1,1.2]] w = [[1,2],[3,4]] b = [[2.3,2.5]] y = x*w+b"
      ],
      "execution_count": 0,
      "outputs": []
    },
    {
      "cell_type": "code",
      "metadata": {
        "id": "r6uK9LTyoKfM",
        "colab_type": "code",
        "outputId": "eb1b1fe7-4844-4189-b7cb-8302f9a038d9",
        "colab": {
          "base_uri": "https://localhost:8080/",
          "height": 53
        }
      },
      "source": [
        "#finding the index of the minimum and maximum\n",
        "a = tf.constant([13,2,20,10,1,2,3]) \n",
        "print(sess.run(tf.argmin(a))) \n",
        "print(sess.run(tf.argmax(a)))"
      ],
      "execution_count": 0,
      "outputs": [
        {
          "output_type": "stream",
          "text": [
            "4\n",
            "2\n"
          ],
          "name": "stdout"
        }
      ]
    },
    {
      "cell_type": "code",
      "metadata": {
        "id": "-Xj640nmuCzD",
        "colab_type": "code",
        "outputId": "1c579d12-958c-4c29-a64a-ac691fed4962",
        "colab": {
          "base_uri": "https://localhost:8080/",
          "height": 107
        }
      },
      "source": [
        "a = tf.constant( [[1,1,1], [2,2,2]] ) \n",
        "print(\"a:\",sess.run(a)) \n",
        "print(\"Reduced Sum:\",sess.run(tf.reduce_sum(a))) \n",
        "print(sess.run(tf.reduce_sum(a, 0))) # Column sum \n",
        "print(sess.run(tf.reduce_sum(a, 1))) # Row sum"
      ],
      "execution_count": 0,
      "outputs": [
        {
          "output_type": "stream",
          "text": [
            "a: [[1 1 1]\n",
            " [2 2 2]]\n",
            "Reduced Sum: 9\n",
            "[3 3 3]\n",
            "[3 6]\n"
          ],
          "name": "stdout"
        }
      ]
    },
    {
      "cell_type": "code",
      "metadata": {
        "id": "jGoDWZK1uIGO",
        "colab_type": "code",
        "outputId": "3e791b9c-0859-40f2-c929-4471a9396160",
        "colab": {
          "base_uri": "https://localhost:8080/",
          "height": 53
        }
      },
      "source": [
        "#from -10 to 10, create a row that has 10 values equally spaced\n",
        "#generates 10 numbers equally spaced between -10 to 10\n",
        "a = tf.linspace(-10., 10., 10)\n",
        "print(sess.run(a))\n"
      ],
      "execution_count": 0,
      "outputs": [
        {
          "output_type": "stream",
          "text": [
            "[-10.         -7.7777777  -5.5555553  -3.333333   -1.1111107   1.1111116\n",
            "   3.333334    5.5555563   7.7777786  10.       ]\n"
          ],
          "name": "stdout"
        }
      ]
    },
    {
      "cell_type": "code",
      "metadata": {
        "id": "gjUdOQoUuWJY",
        "colab_type": "code",
        "outputId": "3a562c3f-a3ec-4a16-8270-3a1bdf0e04b6",
        "colab": {
          "base_uri": "https://localhost:8080/",
          "height": 197
        }
      },
      "source": [
        "a = tf.linspace(-10., 10., 50)\n",
        "print(sess.run(a))\n"
      ],
      "execution_count": 0,
      "outputs": [
        {
          "output_type": "stream",
          "text": [
            "[-10.          -9.591837    -9.183674    -8.77551     -8.367347\n",
            "  -7.9591837   -7.55102     -7.142857    -6.7346935   -6.3265305\n",
            "  -5.9183674   -5.510204    -5.102041    -4.693877    -4.285714\n",
            "  -3.8775508   -3.4693875   -3.0612242   -2.653061    -2.2448976\n",
            "  -1.8367344   -1.4285711   -1.0204079   -0.6122446   -0.2040813\n",
            "   0.20408198   0.61224526   1.0204085    1.4285718    1.8367351\n",
            "   2.2448983    2.6530616    3.061225     3.4693882    3.8775516\n",
            "   4.2857146    4.693878     5.1020412    5.510205     5.918368\n",
            "   6.3265314    6.7346945    7.1428576    7.551021     7.959184\n",
            "   8.367348     8.775511     9.183674     9.591837    10.        ]\n"
          ],
          "name": "stdout"
        }
      ]
    },
    {
      "cell_type": "code",
      "metadata": {
        "id": "sQsQWv3ouqtL",
        "colab_type": "code",
        "colab": {}
      },
      "source": [
        "#during initialization of neural networks\n",
        "#use a placeholder\n",
        "a = tf.placeholder(tf.float32) \n",
        "b = tf.placeholder(tf.float32) \n",
        "sum = tf.add(a,b) \n",
        "print(sess.run(sum,feed_dict={a:3,b:4}))"
      ],
      "execution_count": 0,
      "outputs": []
    },
    {
      "cell_type": "code",
      "metadata": {
        "id": "AmpoBNwwvJEC",
        "colab_type": "code",
        "colab": {}
      },
      "source": [
        "#Variable\n",
        "a = tf.Variable([.3], tf.float32) \n",
        "b = tf.Variable([-.1], tf.float32) \n",
        "x = tf.placeholder(tf.float32) \n",
        "y = a * x + b"
      ],
      "execution_count": 0,
      "outputs": []
    },
    {
      "cell_type": "code",
      "metadata": {
        "id": "MV09REMIy90l",
        "colab_type": "code",
        "colab": {}
      },
      "source": [
        "#---------------------------------------------------------------------------------------"
      ],
      "execution_count": 0,
      "outputs": []
    },
    {
      "cell_type": "code",
      "metadata": {
        "id": "vM2mcZw9y_eK",
        "colab_type": "code",
        "colab": {}
      },
      "source": [
        "#-----------------------------------DATASETS & Data Split--------------------------------"
      ],
      "execution_count": 0,
      "outputs": []
    },
    {
      "cell_type": "code",
      "metadata": {
        "id": "pXuVZUngzFN-",
        "colab_type": "code",
        "colab": {}
      },
      "source": [
        "# softmax activation function explanation:\n",
        "# if the number of neurons in the output layer is more than 2, then you must use the softmax activation function\n",
        "# each of the neurons represents one of the class\n",
        "# # let us say we have 4 different images: dog, cat, bird and car\n",
        "# that is why we put 4 neurons in our output layer\n",
        "#one of the classes, let us say dog neuron replaces one of the neurons in the output layer\n",
        "\n",
        "# softmax converts the raw number into a probability\n",
        "# the way it does it is by taking each of the raw values given from the output and dividing it by the sum of total raw values given out by each of the neurons in the output layer\n",
        "# and based on the probability, it states what image it is whether it is a dog image, or a car image for example\n",
        "\n",
        "# if you don't use softmax, then you'll have to go through if loop to derive the result"
      ],
      "execution_count": 0,
      "outputs": []
    }
  ]
}