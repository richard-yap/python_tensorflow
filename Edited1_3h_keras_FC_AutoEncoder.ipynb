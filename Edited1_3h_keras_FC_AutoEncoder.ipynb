{
  "nbformat": 4,
  "nbformat_minor": 0,
  "metadata": {
    "kernelspec": {
      "name": "python3",
      "display_name": "Python 3"
    },
    "language_info": {
      "codemirror_mode": {
        "name": "ipython",
        "version": 3
      },
      "file_extension": ".py",
      "mimetype": "text/x-python",
      "name": "python",
      "nbconvert_exporter": "python",
      "pygments_lexer": "ipython3",
      "version": "3.7.3"
    },
    "colab": {
      "name": "Edited1 3h-keras-FC-AutoEncoder.ipynb",
      "provenance": [],
      "collapsed_sections": []
    },
    "accelerator": "GPU"
  },
  "cells": [
    {
      "cell_type": "code",
      "metadata": {
        "id": "8rWr2eU1CTWB",
        "colab_type": "code",
        "outputId": "376d8b42-f971-4af9-cdde-3ba845efc231",
        "colab": {
          "base_uri": "https://localhost:8080/",
          "height": 35
        }
      },
      "source": [
        "from keras.datasets import mnist\n",
        "from keras.layers import Input, Dense\n",
        "from keras.models import Model\n",
        "from keras import backend as K\n",
        "\n",
        "import numpy as np\n",
        "import matplotlib.pyplot as plt"
      ],
      "execution_count": 0,
      "outputs": [
        {
          "output_type": "stream",
          "text": [
            "Using TensorFlow backend.\n"
          ],
          "name": "stderr"
        }
      ]
    },
    {
      "cell_type": "code",
      "metadata": {
        "id": "yuqLyXyfCoID",
        "colab_type": "code",
        "outputId": "9ac38963-effc-4ebf-8f5e-0d9ea744fd74",
        "colab": {
          "base_uri": "https://localhost:8080/",
          "height": 127
        }
      },
      "source": [
        "from google.colab import drive\n",
        "drive.mount('/content/drive/')"
      ],
      "execution_count": 0,
      "outputs": [
        {
          "output_type": "stream",
          "text": [
            "Go to this URL in a browser: https://accounts.google.com/o/oauth2/auth?client_id=947318989803-6bn6qk8qdgf4n4g3pfee6491hc0brc4i.apps.googleusercontent.com&redirect_uri=urn%3Aietf%3Awg%3Aoauth%3A2.0%3Aoob&scope=email%20https%3A%2F%2Fwww.googleapis.com%2Fauth%2Fdocs.test%20https%3A%2F%2Fwww.googleapis.com%2Fauth%2Fdrive%20https%3A%2F%2Fwww.googleapis.com%2Fauth%2Fdrive.photos.readonly%20https%3A%2F%2Fwww.googleapis.com%2Fauth%2Fpeopleapi.readonly&response_type=code\n",
            "\n",
            "Enter your authorization code:\n",
            "··········\n",
            "Mounted at /content/drive/\n"
          ],
          "name": "stdout"
        }
      ]
    },
    {
      "cell_type": "code",
      "metadata": {
        "id": "qc62KvMsC4L9",
        "colab_type": "code",
        "outputId": "4984d92d-d57c-4621-e0fa-a06bf68d411b",
        "colab": {
          "base_uri": "https://localhost:8080/",
          "height": 35
        }
      },
      "source": [
        "ls"
      ],
      "execution_count": 0,
      "outputs": [
        {
          "output_type": "stream",
          "text": [
            "\u001b[0m\u001b[01;34mdrive\u001b[0m/  \u001b[01;34msample_data\u001b[0m/\n"
          ],
          "name": "stdout"
        }
      ]
    },
    {
      "cell_type": "code",
      "metadata": {
        "id": "O2vWLAHqC7Md",
        "colab_type": "code",
        "outputId": "23f1feb2-0f83-48f0-f208-ab7a1d7cf4c7",
        "colab": {
          "base_uri": "https://localhost:8080/",
          "height": 35
        }
      },
      "source": [
        "cd drive/My\\ Drive"
      ],
      "execution_count": 0,
      "outputs": [
        {
          "output_type": "stream",
          "text": [
            "/content/drive/My Drive\n"
          ],
          "name": "stdout"
        }
      ]
    },
    {
      "cell_type": "code",
      "metadata": {
        "id": "elg_mQeuDAYx",
        "colab_type": "code",
        "outputId": "6d41f3c6-22c3-441e-ac3c-306d750bcf4a",
        "colab": {
          "base_uri": "https://localhost:8080/",
          "height": 107
        }
      },
      "source": [
        "ls"
      ],
      "execution_count": 0,
      "outputs": [
        {
          "output_type": "stream",
          "text": [
            "'Business Model Canvas.gdoc'  'Leftovers .gdoc'\n",
            " \u001b[0m\u001b[01;34mCITREP_Data+Code\u001b[0m/            'Oral Presentation.gdoc'\n",
            " \u001b[01;34mClassroom\u001b[0m/                   'Quality Control.gdoc'\n",
            "\u001b[01;34m'Colab Notebooks'\u001b[0m/            'Quality Control Slides.gslides'\n",
            "'Getting started.pdf'\n"
          ],
          "name": "stdout"
        }
      ]
    },
    {
      "cell_type": "code",
      "metadata": {
        "id": "S7iJQWhxDDdi",
        "colab_type": "code",
        "outputId": "a946c7aa-5922-4f83-c08b-fdeedbebd42e",
        "colab": {
          "base_uri": "https://localhost:8080/",
          "height": 35
        }
      },
      "source": [
        "cd CITREP_Data+Code/"
      ],
      "execution_count": 0,
      "outputs": [
        {
          "output_type": "stream",
          "text": [
            "/content/drive/My Drive/CITREP_Data+Code\n"
          ],
          "name": "stdout"
        }
      ]
    },
    {
      "cell_type": "code",
      "metadata": {
        "id": "9LFjJ7AiDEhb",
        "colab_type": "code",
        "outputId": "886e6ee5-ca35-45ac-ab1b-4d0bbe6fffa8",
        "colab": {
          "base_uri": "https://localhost:8080/",
          "height": 467
        }
      },
      "source": [
        "ls"
      ],
      "execution_count": 0,
      "outputs": [
        {
          "output_type": "stream",
          "text": [
            " 2a-TensorFlow-Data-Loading.ipynb\n",
            " 2b-TensorFlow-ML.ipynb\n",
            " 3a-TF-FcNN-MNIST.ipynb\n",
            " 3b-TF-FcNN-MNIST-Exercise.ipynb\n",
            " 3c-FcNN-CIFAR10.ipynb\n",
            " 3d-FcNN-CIFAR10-Exercise.ipynb\n",
            " 3-diabetic-NeuralNet-Exercise-TF.ipynb\n",
            " 3e-keras-FCNN-MNIST.ipynb\n",
            " 3f-keras-FcNN-dogscats.ipynb\n",
            " 3g-keras-FcNN-bloodcell-Exercise.ipynb\n",
            " 3h-keras-FC-AutoEncoder.ipynb\n",
            " 4a-MNIST-CNN-TF.ipynb\n",
            " 4b-CIFAR10-CNN-TF-Exercise.ipynb\n",
            " 5a-keras-CNN-dogscats.ipynb\n",
            " 5b-keras-CNN-Bloodcell.ipynb\n",
            " 5c-keras-Con-AutoEncoder.ipynb\n",
            " 5d-keras-Vgg16-dogscats.ipynb\n",
            " 5e-Resnet50-keras-dogscats-Exercise.ipynb\n",
            " 6-Semeion-Classification-SimpleCNN-Exercise.ipynb\n",
            " 7-RNN-IMDB.ipynb\n",
            "'CITREP+ - Clarence & Dr Sudipta - Deep Learning with Tensorflow and Python - v2.pdf'\n",
            " \u001b[0m\u001b[01;34mData\u001b[0m/\n",
            " \u001b[01;34mmnist\u001b[0m/\n",
            " \u001b[01;34mmodels\u001b[0m/\n",
            " tensorboard.ipynb\n"
          ],
          "name": "stdout"
        }
      ]
    },
    {
      "cell_type": "code",
      "metadata": {
        "id": "HnN4aGW3CTWE",
        "colab_type": "code",
        "outputId": "7a9ab400-d865-4d5c-a781-3b73e8edaa2a",
        "colab": {
          "base_uri": "https://localhost:8080/",
          "height": 53
        }
      },
      "source": [
        "# Loading MNIST Data; only images no labels\n",
        "(x_train, _), (x_test, _) = mnist.load_data()"
      ],
      "execution_count": 0,
      "outputs": [
        {
          "output_type": "stream",
          "text": [
            "Downloading data from https://s3.amazonaws.com/img-datasets/mnist.npz\n",
            "11493376/11490434 [==============================] - 1s 0us/step\n"
          ],
          "name": "stdout"
        }
      ]
    },
    {
      "cell_type": "code",
      "metadata": {
        "id": "xq8CUCgLCTWH",
        "colab_type": "code",
        "outputId": "2e0d0a84-6c1a-4027-854e-eb85f389659a",
        "colab": {
          "base_uri": "https://localhost:8080/",
          "height": 53
        }
      },
      "source": [
        "x_train = x_train.astype('float32')/255.0\n",
        "x_test = x_test.astype('float32')/255.0\n",
        "\n",
        "x_train_fcnn = np.reshape(x_train, (len(x_train), 28*28))\n",
        "x_test_fcnn = np.reshape(x_test, (len(x_test), 28*28))\n",
        "\n",
        "print(x_train.shape)\n",
        "print(x_train_fcnn.shape)"
      ],
      "execution_count": 0,
      "outputs": [
        {
          "output_type": "stream",
          "text": [
            "(60000, 28, 28)\n",
            "(60000, 784)\n"
          ],
          "name": "stdout"
        }
      ]
    },
    {
      "cell_type": "code",
      "metadata": {
        "id": "Grct3XybCTWJ",
        "colab_type": "code",
        "outputId": "79ebb6fa-e0b3-452c-9e04-c97fdc5cccd9",
        "colab": {
          "base_uri": "https://localhost:8080/",
          "height": 287
        }
      },
      "source": [
        "plt.imshow(x_train_fcnn[10].reshape(28, 28))"
      ],
      "execution_count": 0,
      "outputs": [
        {
          "output_type": "execute_result",
          "data": {
            "text/plain": [
              "<matplotlib.image.AxesImage at 0x7fd5a01cad30>"
            ]
          },
          "metadata": {
            "tags": []
          },
          "execution_count": 12
        },
        {
          "output_type": "display_data",
          "data": {
            "image/png": "[encoded data removed]",
            "text/plain": [
              "<Figure size 432x288 with 1 Axes>"
            ]
          },
          "metadata": {
            "tags": []
          }
        }
      ]
    },
    {
      "cell_type": "markdown",
      "metadata": {
        "id": "bxV3aM-gCTWL",
        "colab_type": "text"
      },
      "source": [
        "### Adding Noise to the Data"
      ]
    },
    {
      "cell_type": "code",
      "metadata": {
        "id": "-62t4GXoCTWM",
        "colab_type": "code",
        "outputId": "22593387-5265-43ea-c7c1-7c97ac503d56",
        "colab": {
          "base_uri": "https://localhost:8080/",
          "height": 89
        }
      },
      "source": [
        "#adding noise factor intentionlly\n",
        "#pick random pixels from the image and add them randomly \n",
        "\n",
        "noise_factor = 0.5\n",
        "x_train_fcnn_noise = x_train_fcnn + noise_factor * np.random.normal(loc = 0.0, scale = 1.0, size=x_train_fcnn.shape)\n",
        "x_test_fcnn_noise = x_test_fcnn + noise_factor * np.random.normal(loc = 0.0, scale = 1.0, size=x_test_fcnn.shape)\n",
        "\n",
        "print(x_train_fcnn_noise.min())\n",
        "print(x_train_fcnn_noise.max())\n",
        "\n",
        "x_train_fcnn_noise = np.clip(x_train_fcnn_noise, 0., 1.)\n",
        "x_test_fcnn_noise = np.clip(x_test_fcnn_noise, 0., 1.)\n",
        "\n",
        "print(x_train_fcnn_noise.min())\n",
        "print(x_train_fcnn_noise.max())"
      ],
      "execution_count": 0,
      "outputs": [
        {
          "output_type": "stream",
          "text": [
            "-2.611887537467347\n",
            "3.4792991305787586\n",
            "0.0\n",
            "1.0\n"
          ],
          "name": "stdout"
        }
      ]
    },
    {
      "cell_type": "markdown",
      "metadata": {
        "id": "ZaE7zSrRCTWO",
        "colab_type": "text"
      },
      "source": [
        "### Display Noise Data"
      ]
    },
    {
      "cell_type": "code",
      "metadata": {
        "id": "nAVSRVihCTWP",
        "colab_type": "code",
        "outputId": "c91412e0-fd18-4016-bd2a-1ef65b227bcd",
        "colab": {
          "base_uri": "https://localhost:8080/",
          "height": 125
        }
      },
      "source": [
        "n = 10\n",
        "plt.figure(figsize=(20, 2))\n",
        "for i in range(n):\n",
        "    ax = plt.subplot(1, n, i+1)\n",
        "    plt.imshow(x_test_fcnn_noise[i].reshape(28, 28))\n",
        "    plt.gray()\n",
        "    ax.get_xaxis().set_visible(False)\n",
        "    ax.get_yaxis().set_visible(False)\n",
        "plt.show()"
      ],
      "execution_count": 0,
      "outputs": [
        {
          "output_type": "display_data",
          "data": {
            "image/png": "[encoded data removed]",
            "text/plain": [
              "<Figure size 1440x144 with 10 Axes>"
            ]
          },
          "metadata": {
            "tags": []
          }
        }
      ]
    },
    {
      "cell_type": "code",
      "metadata": {
        "id": "i8hgKNghCTWR",
        "colab_type": "code",
        "outputId": "a0a8ef97-fa0d-4371-ce25-aed24f61ca9c",
        "colab": {
          "base_uri": "https://localhost:8080/",
          "height": 287
        }
      },
      "source": [
        "plt.imshow(x_train_fcnn_noise[10].reshape(28, 28))"
      ],
      "execution_count": 0,
      "outputs": [
        {
          "output_type": "execute_result",
          "data": {
            "text/plain": [
              "<matplotlib.image.AxesImage at 0x7fd59d73a550>"
            ]
          },
          "metadata": {
            "tags": []
          },
          "execution_count": 15
        },
        {
          "output_type": "display_data",
          "data": {
            "image/png": "[encoded data removed]",
            "text/plain": [
              "<Figure size 432x288 with 1 Axes>"
            ]
          },
          "metadata": {
            "tags": []
          }
        }
      ]
    },
    {
      "cell_type": "markdown",
      "metadata": {
        "id": "zDEPQP1qCTWT",
        "colab_type": "text"
      },
      "source": [
        "### Build Fc-AutoEncoder Model"
      ]
    },
    {
      "cell_type": "code",
      "metadata": {
        "id": "bpp43z4oCTWU",
        "colab_type": "code",
        "outputId": "e9f4ee0f-1186-42a2-d3a5-1ad0859560c7",
        "colab": {
          "base_uri": "https://localhost:8080/",
          "height": 145
        }
      },
      "source": [
        "#the auto-encoder that we want to build so that we can get back our input\n",
        "\n",
        "input_img = Input(shape=(784,))\n",
        "encoded = Dense(128, activation='relu')(input_img)\n",
        "encoded = Dense(64, activation='relu')(encoded)\n",
        "encoded = Dense(32, activation='relu')(encoded)\n",
        "\n",
        "decoded = Dense(64, activation='relu')(encoded)\n",
        "decoded = Dense(128, activation='relu')(decoded)\n",
        "\n",
        "#we use sigmoid because the outputs returned are in between 0 to 1\n",
        "decoded = Dense(784, activation='sigmoid')(decoded)"
      ],
      "execution_count": 0,
      "outputs": [
        {
          "output_type": "stream",
          "text": [
            "WARNING:tensorflow:From /usr/local/lib/python3.6/dist-packages/keras/backend/tensorflow_backend.py:66: The name tf.get_default_graph is deprecated. Please use tf.compat.v1.get_default_graph instead.\n",
            "\n",
            "WARNING:tensorflow:From /usr/local/lib/python3.6/dist-packages/keras/backend/tensorflow_backend.py:541: The name tf.placeholder is deprecated. Please use tf.compat.v1.placeholder instead.\n",
            "\n",
            "WARNING:tensorflow:From /usr/local/lib/python3.6/dist-packages/keras/backend/tensorflow_backend.py:4432: The name tf.random_uniform is deprecated. Please use tf.random.uniform instead.\n",
            "\n"
          ],
          "name": "stdout"
        }
      ]
    },
    {
      "cell_type": "markdown",
      "metadata": {
        "id": "Zm4GvK9JCTWW",
        "colab_type": "text"
      },
      "source": [
        "### Train the Auto-Encoder"
      ]
    },
    {
      "cell_type": "code",
      "metadata": {
        "id": "flIAj2nUCTWX",
        "colab_type": "code",
        "outputId": "1374edab-ca3b-4a64-f35b-a1486a8d873e",
        "colab": {
          "base_uri": "https://localhost:8080/",
          "height": 125
        }
      },
      "source": [
        "#training portion\n",
        "\n",
        "autoencoder = Model(input_img, decoded)\n",
        "autoencoder.compile(optimizer='adadelta', loss='binary_crossentropy')\n",
        "\n",
        "autoencoder.fit(x_train_fcnn_noise, x_train_fcnn, #pixel to pixel comparison (we are not using y-train this time)\n",
        "                epochs=2,\n",
        "                batch_size=256,\n",
        "                shuffle=True,\n",
        "                validation_data=(x_test_fcnn_noise, x_test_fcnn))\n",
        "\n",
        "#the more times we run this code here, the clearer the image output"
      ],
      "execution_count": 0,
      "outputs": [
        {
          "output_type": "stream",
          "text": [
            "Train on 60000 samples, validate on 10000 samples\n",
            "Epoch 1/2\n",
            "60000/60000 [==============================] - 3s 46us/step - loss: 0.2001 - val_loss: 0.1958\n",
            "Epoch 2/2\n",
            "60000/60000 [==============================] - 2s 36us/step - loss: 0.1922 - val_loss: 0.1879\n"
          ],
          "name": "stdout"
        },
        {
          "output_type": "execute_result",
          "data": {
            "text/plain": [
              "<keras.callbacks.History at 0x7fd55026bc88>"
            ]
          },
          "metadata": {
            "tags": []
          },
          "execution_count": 25
        }
      ]
    },
    {
      "cell_type": "code",
      "metadata": {
        "id": "3bruWulkCTWZ",
        "colab_type": "code",
        "outputId": "0694e864-8eb8-4fe7-f855-0199160ac5b7",
        "colab": {
          "base_uri": "https://localhost:8080/",
          "height": 244
        }
      },
      "source": [
        "decoded_imgs = autoencoder.predict(x_test_fcnn_noise)\n",
        "\n",
        "n = 10  # how many digits we will display\n",
        "plt.figure(figsize=(20, 4))\n",
        "for i in range(n):\n",
        "    # display original\n",
        "    ax = plt.subplot(2, n, i + 1)\n",
        "    plt.imshow(x_test_fcnn_noise[i].reshape(28, 28))\n",
        "    plt.gray()\n",
        "    ax.get_xaxis().set_visible(False)\n",
        "    ax.get_yaxis().set_visible(False)\n",
        "\n",
        "    # display reconstruction\n",
        "    ax = plt.subplot(2, n, i + 1 + n)\n",
        "    plt.imshow(decoded_imgs[i].reshape(28, 28))\n",
        "    plt.gray()\n",
        "    ax.get_xaxis().set_visible(False)\n",
        "    ax.get_yaxis().set_visible(False)\n",
        "plt.show()"
      ],
      "execution_count": 0,
      "outputs": [
        {
          "output_type": "display_data",
          "data": {
            "image/png": "[encoded data removed]",
            "text/plain": [
              "<Figure size 1440x288 with 20 Axes>"
            ]
          },
          "metadata": {
            "tags": []
          }
        }
      ]
    },
    {
      "cell_type": "code",
      "metadata": {
        "id": "1U_HV3b9CTWb",
        "colab_type": "code",
        "colab": {}
      },
      "source": [
        ""
      ],
      "execution_count": 0,
      "outputs": []
    }
  ]
}