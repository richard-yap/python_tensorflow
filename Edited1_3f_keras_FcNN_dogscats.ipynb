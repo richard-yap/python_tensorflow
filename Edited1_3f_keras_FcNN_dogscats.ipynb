{
  "nbformat": 4,
  "nbformat_minor": 0,
  "metadata": {
    "kernelspec": {
      "name": "python3",
      "display_name": "Python 3"
    },
    "language_info": {
      "codemirror_mode": {
        "name": "ipython",
        "version": 3
      },
      "file_extension": ".py",
      "mimetype": "text/x-python",
      "name": "python",
      "nbconvert_exporter": "python",
      "pygments_lexer": "ipython3",
      "version": "3.7.3"
    },
    "colab": {
      "name": "Edited1 3f-keras-FcNN-dogscats.ipynb",
      "provenance": [],
      "collapsed_sections": []
    },
    "accelerator": "GPU"
  },
  "cells": [
    {
      "cell_type": "code",
      "metadata": {
        "id": "ghbB-dGKwGhI",
        "colab_type": "code",
        "outputId": "4a8a5c49-7ab6-4e70-fac1-6847fe80d2c1",
        "colab": {
          "base_uri": "https://localhost:8080/",
          "height": 35
        }
      },
      "source": [
        "from keras import layers\n",
        "from keras import models\n",
        "from keras import optimizers\n",
        "from keras.preprocessing import image\n",
        "from keras.preprocessing.image import ImageDataGenerator\n",
        "import matplotlib.pyplot as plt\n",
        "from keras.utils import to_categorical\n",
        "\n",
        "import os, shutil"
      ],
      "execution_count": 0,
      "outputs": [
        {
          "output_type": "stream",
          "text": [
            "Using TensorFlow backend.\n"
          ],
          "name": "stderr"
        }
      ]
    },
    {
      "cell_type": "code",
      "metadata": {
        "id": "sOhxjLkAwWZ_",
        "colab_type": "code",
        "outputId": "9a6412cc-7cd3-4d1f-db67-f5df22d48ac9",
        "colab": {
          "base_uri": "https://localhost:8080/",
          "height": 127
        }
      },
      "source": [
        "from google.colab import drive\n",
        "drive.mount('/content/drive/')"
      ],
      "execution_count": 0,
      "outputs": [
        {
          "output_type": "stream",
          "text": [
            "Go to this URL in a browser: https://accounts.google.com/o/oauth2/auth?client_id=947318989803-6bn6qk8qdgf4n4g3pfee6491hc0brc4i.apps.googleusercontent.com&redirect_uri=urn%3Aietf%3Awg%3Aoauth%3A2.0%3Aoob&scope=email%20https%3A%2F%2Fwww.googleapis.com%2Fauth%2Fdocs.test%20https%3A%2F%2Fwww.googleapis.com%2Fauth%2Fdrive%20https%3A%2F%2Fwww.googleapis.com%2Fauth%2Fdrive.photos.readonly%20https%3A%2F%2Fwww.googleapis.com%2Fauth%2Fpeopleapi.readonly&response_type=code\n",
            "\n",
            "Enter your authorization code:\n",
            "··········\n",
            "Mounted at /content/drive/\n"
          ],
          "name": "stdout"
        }
      ]
    },
    {
      "cell_type": "code",
      "metadata": {
        "id": "j0nn5-W4wWn2",
        "colab_type": "code",
        "outputId": "da3af1b8-02cf-41a7-b168-3d0d80089ba4",
        "colab": {
          "base_uri": "https://localhost:8080/",
          "height": 35
        }
      },
      "source": [
        "ls"
      ],
      "execution_count": 0,
      "outputs": [
        {
          "output_type": "stream",
          "text": [
            "\u001b[0m\u001b[01;34mdrive\u001b[0m/  \u001b[01;34msample_data\u001b[0m/\n"
          ],
          "name": "stdout"
        }
      ]
    },
    {
      "cell_type": "code",
      "metadata": {
        "id": "ntCemOe2wWuq",
        "colab_type": "code",
        "outputId": "5e1a82c5-9e38-440c-e628-dea28cf88b61",
        "colab": {
          "base_uri": "https://localhost:8080/",
          "height": 35
        }
      },
      "source": [
        "cd drive/My\\ Drive"
      ],
      "execution_count": 0,
      "outputs": [
        {
          "output_type": "stream",
          "text": [
            "/content/drive/My Drive\n"
          ],
          "name": "stdout"
        }
      ]
    },
    {
      "cell_type": "code",
      "metadata": {
        "id": "p9LXOiJowWz2",
        "colab_type": "code",
        "outputId": "65889cb2-d80c-42c5-b48e-43bd178a28a0",
        "colab": {
          "base_uri": "https://localhost:8080/",
          "height": 107
        }
      },
      "source": [
        "ls"
      ],
      "execution_count": 0,
      "outputs": [
        {
          "output_type": "stream",
          "text": [
            "'Business Model Canvas.gdoc'  'Leftovers .gdoc'\n",
            " \u001b[0m\u001b[01;34mCITREP_Data+Code\u001b[0m/            'Oral Presentation.gdoc'\n",
            " \u001b[01;34mClassroom\u001b[0m/                   'Quality Control.gdoc'\n",
            "\u001b[01;34m'Colab Notebooks'\u001b[0m/            'Quality Control Slides.gslides'\n",
            "'Getting started.pdf'         'Untitled document.gdoc'\n"
          ],
          "name": "stdout"
        }
      ]
    },
    {
      "cell_type": "code",
      "metadata": {
        "id": "JGY2XLWUwW5n",
        "colab_type": "code",
        "outputId": "40ced11e-aa9d-47c1-a5c9-2aadc21194a2",
        "colab": {
          "base_uri": "https://localhost:8080/",
          "height": 35
        }
      },
      "source": [
        "cd CITREP_Data+Code/"
      ],
      "execution_count": 0,
      "outputs": [
        {
          "output_type": "stream",
          "text": [
            "/content/drive/My Drive/CITREP_Data+Code\n"
          ],
          "name": "stdout"
        }
      ]
    },
    {
      "cell_type": "code",
      "metadata": {
        "id": "dWXy3RK3zQL7",
        "colab_type": "code",
        "outputId": "f60c2ded-7e4d-4d46-a705-e0385b33013c",
        "colab": {
          "base_uri": "https://localhost:8080/",
          "height": 485
        }
      },
      "source": [
        "ls"
      ],
      "execution_count": 0,
      "outputs": [
        {
          "output_type": "stream",
          "text": [
            " 2a-TensorFlow-Data-Loading.ipynb\n",
            " 2b-TensorFlow-ML.ipynb\n",
            " 3a-TF-FcNN-MNIST.ipynb\n",
            " 3b-TF-FcNN-MNIST-Exercise.ipynb\n",
            " 3c-FcNN-CIFAR10.ipynb\n",
            " 3d-FcNN-CIFAR10-Exercise.ipynb\n",
            " 3-diabetic-NeuralNet-Exercise-TF.ipynb\n",
            " 3e-keras-FCNN-MNIST.ipynb\n",
            " 3f-keras-FcNN-dogscats.ipynb\n",
            " 3g-keras-FcNN-bloodcell-Exercise.ipynb\n",
            " 3h-keras-FC-AutoEncoder.ipynb\n",
            " 4a-MNIST-CNN-TF.ipynb\n",
            " 4b-CIFAR10-CNN-TF-Exercise.ipynb\n",
            " 5a-keras-CNN-dogscats.ipynb\n",
            " 5b-keras-CNN-Bloodcell.ipynb\n",
            " 5c-keras-Con-AutoEncoder.ipynb\n",
            " 5d-keras-Vgg16-dogscats.ipynb\n",
            " 5e-Resnet50-keras-dogscats-Exercise.ipynb\n",
            " 6-Semeion-Classification-SimpleCNN-Exercise.ipynb\n",
            " 7-RNN-IMDB.ipynb\n",
            "'CITREP+ - Clarence & Dr Sudipta - Deep Learning with Tensorflow and Python - v2.pdf'\n",
            " \u001b[0m\u001b[01;34mData\u001b[0m/\n",
            " \u001b[01;34mdogscats\u001b[0m/\n",
            " \u001b[01;34mmnist\u001b[0m/\n",
            " \u001b[01;34mmodels\u001b[0m/\n",
            " tensorboard.ipynb\n"
          ],
          "name": "stdout"
        }
      ]
    },
    {
      "cell_type": "code",
      "metadata": {
        "id": "bRllMpfJwGhL",
        "colab_type": "code",
        "colab": {}
      },
      "source": [
        "# we will be building a FCNN again (Fully connected neural network) but now from scratch\n",
        "\n",
        "original_dataset_dir = \"./Data/dogscats/\"\n",
        "\n",
        "# the base directory (which folder the photos are found)\n",
        "base_dir = './dogscats/' \n",
        "if not os.path.exists(base_dir):\n",
        "    os.mkdir(base_dir)"
      ],
      "execution_count": 0,
      "outputs": []
    },
    {
      "cell_type": "code",
      "metadata": {
        "id": "zFX06f7iwGhO",
        "colab_type": "code",
        "outputId": "013dacac-d165-454b-ad0d-555dd9783d38",
        "colab": {
          "base_uri": "https://localhost:8080/",
          "height": 35
        }
      },
      "source": [
        "os.listdir(base_dir)"
      ],
      "execution_count": 0,
      "outputs": [
        {
          "output_type": "execute_result",
          "data": {
            "text/plain": [
              "['train', 'validation', 'test']"
            ]
          },
          "metadata": {
            "tags": []
          },
          "execution_count": 9
        }
      ]
    },
    {
      "cell_type": "code",
      "metadata": {
        "id": "kGQ76N6OwGhR",
        "colab_type": "code",
        "colab": {}
      },
      "source": [
        "#over here we are creating 3 folders\n",
        "\n",
        "train_dir = os.path.join(base_dir, 'train')\n",
        "if not os.path.exists(train_dir):\n",
        "    os.mkdir(train_dir)\n",
        "    \n",
        "validation_dir = os.path.join(base_dir, 'validation')\n",
        "if not os.path.exists(validation_dir):\n",
        "    os.mkdir(validation_dir)\n",
        "    \n",
        "test_dir = os.path.join(base_dir, 'test')\n",
        "if not os.path.exists(test_dir):\n",
        "    os.mkdir(test_dir)"
      ],
      "execution_count": 0,
      "outputs": []
    },
    {
      "cell_type": "code",
      "metadata": {
        "id": "k1UNGVOAwGhT",
        "colab_type": "code",
        "outputId": "755f478a-9fa7-4e66-b01b-975774670d69",
        "colab": {
          "base_uri": "https://localhost:8080/",
          "height": 35
        }
      },
      "source": [
        "os.listdir(base_dir)"
      ],
      "execution_count": 0,
      "outputs": [
        {
          "output_type": "execute_result",
          "data": {
            "text/plain": [
              "['train', 'validation', 'test']"
            ]
          },
          "metadata": {
            "tags": []
          },
          "execution_count": 11
        }
      ]
    },
    {
      "cell_type": "code",
      "metadata": {
        "id": "flXq2zLnwGhW",
        "colab_type": "code",
        "colab": {}
      },
      "source": [
        "#over here we are creating another 2 folders within each of the 3 folders (train, validation and test) that we just created in the dogcats folder. \n",
        "\n",
        "train_cats_dir = os.path.join(train_dir, 'cats')\n",
        "if not os.path.exists(train_cats_dir):\n",
        "    os.mkdir(train_cats_dir)\n",
        "train_dogs_dir = os.path.join(train_dir, 'dogs')\n",
        "if not os.path.exists(train_dogs_dir):\n",
        "    os.mkdir(train_dogs_dir)\n",
        "\n",
        "validation_cats_dir = os.path.join(validation_dir, 'cats')\n",
        "if not os.path.exists(validation_cats_dir):\n",
        "    os.mkdir(validation_cats_dir)\n",
        "validation_dogs_dir = os.path.join(validation_dir, 'dogs')\n",
        "if not os.path.exists(validation_dogs_dir):\n",
        "    os.mkdir(validation_dogs_dir)\n",
        "\n",
        "test_cats_dir = os.path.join(test_dir, 'cats')\n",
        "if not os.path.exists(test_cats_dir):\n",
        "    os.mkdir(test_cats_dir)\n",
        "test_dogs_dir = os.path.join(test_dir, 'dogs')\n",
        "if not os.path.exists(test_dogs_dir):\n",
        "    os.mkdir(test_dogs_dir)\n",
        "    \n",
        "#this results in an empty folder"
      ],
      "execution_count": 0,
      "outputs": []
    },
    {
      "cell_type": "code",
      "metadata": {
        "id": "-VwR8gdWwGhY",
        "colab_type": "code",
        "colab": {}
      },
      "source": [
        "#here we are spliting the datasets into eah of the different folders\n",
        "\n",
        "# Copy first 1000 cat images to train_cats_dir\n",
        "fnames = ['cat.{}.jpg'.format(i) for i in range(1000)]\n",
        "for fname in fnames:\n",
        "    src = os.path.join(original_dataset_dir, fname)\n",
        "    dst = os.path.join(train_cats_dir, fname)\n",
        "    shutil.copyfile(src, dst)\n",
        "\n",
        "# Copy next 500 cat images to validation_cats_dir\n",
        "fnames = ['cat.{}.jpg'.format(i) for i in range(1000, 1500)]\n",
        "for fname in fnames:\n",
        "    src = os.path.join(original_dataset_dir, fname)\n",
        "    dst = os.path.join(validation_cats_dir, fname)\n",
        "    shutil.copyfile(src, dst)\n",
        "    \n",
        "# Copy next 500 cat images to test_cats_dir\n",
        "fnames = ['cat.{}.jpg'.format(i) for i in range(1500, 2000)]\n",
        "for fname in fnames:\n",
        "    src = os.path.join(original_dataset_dir, fname)\n",
        "    dst = os.path.join(test_cats_dir, fname)\n",
        "    shutil.copyfile(src, dst)\n",
        "    \n",
        "# Copy first 1000 dog images to train_dogs_dir\n",
        "fnames = ['dog.{}.jpg'.format(i) for i in range(1000)]\n",
        "for fname in fnames:\n",
        "    src = os.path.join(original_dataset_dir, fname)\n",
        "    dst = os.path.join(train_dogs_dir, fname)\n",
        "    shutil.copyfile(src, dst)\n",
        "    \n",
        "# Copy next 500 dog images to validation_dogs_dir\n",
        "fnames = ['dog.{}.jpg'.format(i) for i in range(1000, 1500)]\n",
        "for fname in fnames:\n",
        "    src = os.path.join(original_dataset_dir, fname)\n",
        "    dst = os.path.join(validation_dogs_dir, fname)\n",
        "    shutil.copyfile(src, dst)\n",
        "    \n",
        "# Copy next 500 dog images to test_dogs_dir\n",
        "fnames = ['dog.{}.jpg'.format(i) for i in range(1500, 2000)]\n",
        "for fname in fnames:\n",
        "    src = os.path.join(original_dataset_dir, fname)\n",
        "    dst = os.path.join(test_dogs_dir, fname)\n",
        "    shutil.copyfile(src, dst)"
      ],
      "execution_count": 0,
      "outputs": []
    },
    {
      "cell_type": "code",
      "metadata": {
        "id": "IrEcUtAbwGha",
        "colab_type": "code",
        "outputId": "34247ca8-9b00-4ea7-d425-dc98b906f96e",
        "colab": {}
      },
      "source": [
        "print('total training cat images:', len(os.listdir(train_cats_dir)))\n",
        "print('total training dog images:', len(os.listdir(train_dogs_dir)))\n",
        "print('total validation cat images:', len(os.listdir(validation_cats_dir)))\n",
        "print('total validation dog images:', len(os.listdir(validation_dogs_dir)))\n",
        "print('total test cat images:', len(os.listdir(test_cats_dir)))\n",
        "print('total test dog images:', len(os.listdir(test_dogs_dir)))"
      ],
      "execution_count": 0,
      "outputs": [
        {
          "output_type": "stream",
          "text": [
            "total training cat images: 1000\n",
            "total training dog images: 1000\n",
            "total validation cat images: 500\n",
            "total validation dog images: 500\n",
            "total test cat images: 500\n",
            "total test dog images: 500\n"
          ],
          "name": "stdout"
        }
      ]
    },
    {
      "cell_type": "markdown",
      "metadata": {
        "id": "xabN90qvwGhc",
        "colab_type": "text"
      },
      "source": [
        "### Data Processing"
      ]
    },
    {
      "cell_type": "code",
      "metadata": {
        "id": "iIaNqJcWwGhd",
        "colab_type": "code",
        "outputId": "18e6ab6c-e8da-44a5-86e6-65ff71c3bf45",
        "colab": {}
      },
      "source": [
        "train_datagen = ImageDataGenerator(rescale=1./255)\n",
        "test_datagen = ImageDataGenerator(rescale=1./255)\n",
        "\n",
        "train_generator = train_datagen.flow_from_directory(train_dir, target_size=(150, 150),\n",
        "                                                    batch_size=20, class_mode='binary') # categorical\n",
        "\n",
        "validation_generator = test_datagen.flow_from_directory(validation_dir, target_size=(150, 150),\n",
        "                                            batch_size=20, class_mode='binary')"
      ],
      "execution_count": 0,
      "outputs": [
        {
          "output_type": "stream",
          "text": [
            "Found 2000 images belonging to 2 classes.\n",
            "Found 1000 images belonging to 2 classes.\n"
          ],
          "name": "stdout"
        }
      ]
    },
    {
      "cell_type": "code",
      "metadata": {
        "id": "6X-8rfRBwGhf",
        "colab_type": "code",
        "outputId": "9b9aa9a5-7923-40c0-cc31-8c21cd3480da",
        "colab": {}
      },
      "source": [
        "for data_batch, labels_batch in train_generator:\n",
        "    print('data batch shape:', data_batch.shape)\n",
        "    print('labels batch shape:', labels_batch.shape)\n",
        "    break"
      ],
      "execution_count": 0,
      "outputs": [
        {
          "output_type": "stream",
          "text": [
            "data batch shape: (20, 150, 150, 3)\n",
            "labels batch shape: (20,)\n"
          ],
          "name": "stdout"
        }
      ]
    },
    {
      "cell_type": "code",
      "metadata": {
        "id": "FrIDe77owGhh",
        "colab_type": "code",
        "outputId": "f9b4dbdd-7f77-43e4-f8c4-02f4fd3f6e6a",
        "colab": {}
      },
      "source": [
        "import numpy as np\n",
        "generator = train_datagen.flow_from_directory(train_dir, target_size=(150, 150),\n",
        "                                              batch_size=20, class_mode='binary')\n",
        "\n",
        "train_x = np.zeros(shape=(2000, 150, 150, 3))\n",
        "train_y = np.zeros(shape=(2000,))\n",
        "batch_size = 20\n",
        "i = 0\n",
        "for inputs_batch, labels_batch in generator:\n",
        "#    print(inputs_batch.size)\n",
        "    features_batch = np.reshape(inputs_batch, (20, 150, 150,3))\n",
        "    train_x[i * batch_size : (i + 1) * batch_size] = features_batch\n",
        "    train_y[i * batch_size : (i + 1) * batch_size] = labels_batch\n",
        "    i += 1\n",
        "    if i * batch_size >= 2000:\n",
        "        break"
      ],
      "execution_count": 0,
      "outputs": [
        {
          "output_type": "stream",
          "text": [
            "Found 2000 images belonging to 2 classes.\n"
          ],
          "name": "stdout"
        }
      ]
    },
    {
      "cell_type": "code",
      "metadata": {
        "id": "KZX1sY3UwGhk",
        "colab_type": "code",
        "outputId": "b4d51c37-d5d2-468c-e817-51f8e1830f85",
        "colab": {}
      },
      "source": [
        "generator = test_datagen.flow_from_directory(test_dir, target_size=(150, 150),\n",
        "                                              batch_size=20, class_mode='binary')\n",
        "\n",
        "test_x = np.zeros(shape=(1000, 150, 150, 3))\n",
        "test_y = np.zeros(shape=(1000,))\n",
        "batch_size = 20\n",
        "i = 0\n",
        "for inputs_batch, labels_batch in generator:\n",
        "#    print(inputs_batch.size)\n",
        "    features_batch = np.reshape(inputs_batch, (20, 150, 150,3))\n",
        "    test_x[i * batch_size : (i + 1) * batch_size] = features_batch\n",
        "    test_y[i * batch_size : (i + 1) * batch_size] = labels_batch\n",
        "    i += 1\n",
        "    if i * batch_size >= 1000:\n",
        "        break"
      ],
      "execution_count": 0,
      "outputs": [
        {
          "output_type": "stream",
          "text": [
            "Found 1000 images belonging to 2 classes.\n"
          ],
          "name": "stdout"
        }
      ]
    },
    {
      "cell_type": "code",
      "metadata": {
        "id": "jVaSVFHnwGhm",
        "colab_type": "code",
        "outputId": "abe51d66-87b9-4139-fd9c-329b2160e20d",
        "colab": {}
      },
      "source": [
        "print(train_x.shape)\n",
        "print(test_x.shape)"
      ],
      "execution_count": 0,
      "outputs": [
        {
          "output_type": "stream",
          "text": [
            "(2000, 150, 150, 3)\n",
            "(1000, 150, 150, 3)\n"
          ],
          "name": "stdout"
        }
      ]
    },
    {
      "cell_type": "code",
      "metadata": {
        "id": "ALO82HSNwGho",
        "colab_type": "code",
        "outputId": "74253c07-1628-4ef0-a9bb-6f430a757324",
        "colab": {}
      },
      "source": [
        "train_x = train_x.reshape((2000, 150 * 150 * 3))\n",
        "train_x.shape"
      ],
      "execution_count": 0,
      "outputs": [
        {
          "output_type": "execute_result",
          "data": {
            "text/plain": [
              "(2000, 67500)"
            ]
          },
          "metadata": {
            "tags": []
          },
          "execution_count": 15
        }
      ]
    },
    {
      "cell_type": "code",
      "metadata": {
        "id": "w4DWg07FwGhq",
        "colab_type": "code",
        "outputId": "556834a6-3783-4d4f-8e93-77f90432d9a6",
        "colab": {}
      },
      "source": [
        "test_x = test_x.reshape((1000, 150 * 150 * 3))\n",
        "test_x.shape"
      ],
      "execution_count": 0,
      "outputs": [
        {
          "output_type": "execute_result",
          "data": {
            "text/plain": [
              "(1000, 67500)"
            ]
          },
          "metadata": {
            "tags": []
          },
          "execution_count": 16
        }
      ]
    },
    {
      "cell_type": "code",
      "metadata": {
        "id": "liogSBdnwGhs",
        "colab_type": "code",
        "colab": {}
      },
      "source": [
        "train_y = to_categorical(train_y)\n",
        "test_y = to_categorical(test_y)"
      ],
      "execution_count": 0,
      "outputs": []
    },
    {
      "cell_type": "code",
      "metadata": {
        "id": "csEk0vxnwGhv",
        "colab_type": "code",
        "outputId": "4bd32804-eead-426f-baa2-c428d3ba3fc8",
        "colab": {}
      },
      "source": [
        "train_y.shape"
      ],
      "execution_count": 0,
      "outputs": [
        {
          "output_type": "execute_result",
          "data": {
            "text/plain": [
              "(2000, 2)"
            ]
          },
          "metadata": {
            "tags": []
          },
          "execution_count": 18
        }
      ]
    },
    {
      "cell_type": "code",
      "metadata": {
        "id": "kgBkjzi6wGhx",
        "colab_type": "code",
        "outputId": "403e4e75-9a84-41c2-97a7-f406b9c3f7b3",
        "colab": {}
      },
      "source": [
        "train_y[1]"
      ],
      "execution_count": 0,
      "outputs": [
        {
          "output_type": "execute_result",
          "data": {
            "text/plain": [
              "array([0., 1.], dtype=float32)"
            ]
          },
          "metadata": {
            "tags": []
          },
          "execution_count": 19
        }
      ]
    },
    {
      "cell_type": "code",
      "metadata": {
        "id": "hLaemLBmwGhz",
        "colab_type": "code",
        "outputId": "82e84a45-4991-410f-c821-f0c7313394ee",
        "colab": {}
      },
      "source": [
        "### Build a FCNN\n",
        "model = models.Sequential()\n",
        "model.add(layers.Dense(512, activation='relu', input_shape=(150 * 150 * 3, )))\n",
        "model.add(layers.Dense(200, activation='relu'))\n",
        "model.add(layers.Dense(2, activation = 'sigmoid'))"
      ],
      "execution_count": 0,
      "outputs": [
        {
          "output_type": "stream",
          "text": [
            "WARNING:tensorflow:From /home/sudipta/anaconda3/lib/python3.7/site-packages/tensorflow/python/framework/op_def_library.py:263: colocate_with (from tensorflow.python.framework.ops) is deprecated and will be removed in a future version.\n",
            "Instructions for updating:\n",
            "Colocations handled automatically by placer.\n"
          ],
          "name": "stdout"
        }
      ]
    },
    {
      "cell_type": "code",
      "metadata": {
        "id": "_hCo6H4bwGh1",
        "colab_type": "code",
        "colab": {}
      },
      "source": [
        "model.compile(loss='binary_crossentropy', optimizer=optimizers.RMSprop(lr=1e-4), \n",
        "              metrics=['acc'])"
      ],
      "execution_count": 0,
      "outputs": []
    },
    {
      "cell_type": "code",
      "metadata": {
        "id": "pX7sxKTYwGh4",
        "colab_type": "code",
        "outputId": "d5072a8c-dcc1-4d83-dfed-c542499571cc",
        "colab": {}
      },
      "source": [
        "history = model.fit(train_x, train_y, epochs=1, batch_size=20)"
      ],
      "execution_count": 0,
      "outputs": [
        {
          "output_type": "stream",
          "text": [
            "Epoch 1/1\n",
            "2000/2000 [==============================] - 20s 10ms/step - loss: 0.8155 - acc: 0.5315\n"
          ],
          "name": "stdout"
        }
      ]
    },
    {
      "cell_type": "code",
      "metadata": {
        "id": "M1BPaF4vwGh7",
        "colab_type": "code",
        "outputId": "e4f0717f-e167-45e0-9d4f-cc15f48d71c0",
        "colab": {}
      },
      "source": [
        "model.evaluate(test_x, test_y)"
      ],
      "execution_count": 0,
      "outputs": [
        {
          "output_type": "stream",
          "text": [
            "1000/1000 [==============================] - 1s 607us/step\n"
          ],
          "name": "stdout"
        },
        {
          "output_type": "execute_result",
          "data": {
            "text/plain": [
              "[0.8453655443191528, 0.5025]"
            ]
          },
          "metadata": {
            "tags": []
          },
          "execution_count": 24
        }
      ]
    },
    {
      "cell_type": "code",
      "metadata": {
        "id": "3EOQu-NdwGh9",
        "colab_type": "code",
        "outputId": "32eb5ffa-bb93-4dd9-f399-f9c7ee6599be",
        "colab": {}
      },
      "source": [
        "test_loss, test_acc = model.evaluate(test_x, test_y)\n",
        "print('test_acc:', test_acc)"
      ],
      "execution_count": 0,
      "outputs": [
        {
          "output_type": "stream",
          "text": [
            "1000/1000 [==============================] - 1s 570us/step\n",
            "test_acc: 0.5025\n"
          ],
          "name": "stdout"
        }
      ]
    },
    {
      "cell_type": "code",
      "metadata": {
        "id": "bx-dVTV7wGh_",
        "colab_type": "code",
        "colab": {}
      },
      "source": [
        ""
      ],
      "execution_count": 0,
      "outputs": []
    }
  ]
}