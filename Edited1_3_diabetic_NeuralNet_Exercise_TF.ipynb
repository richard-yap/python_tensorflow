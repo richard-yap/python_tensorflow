{
  "nbformat": 4,
  "nbformat_minor": 0,
  "metadata": {
    "kernelspec": {
      "display_name": "Python 3",
      "language": "python",
      "name": "python3"
    },
    "language_info": {
      "codemirror_mode": {
        "name": "ipython",
        "version": 3
      },
      "file_extension": ".py",
      "mimetype": "text/x-python",
      "name": "python",
      "nbconvert_exporter": "python",
      "pygments_lexer": "ipython3",
      "version": "3.7.3"
    },
    "colab": {
      "name": "Edited1 3-diabetic-NeuralNet-Exercise-TF.ipynb",
      "provenance": [],
      "collapsed_sections": []
    }
  },
  "cells": [
    {
      "cell_type": "markdown",
      "metadata": {
        "id": "WoTiGFdTGgja",
        "colab_type": "text"
      },
      "source": [
        "### Predict Diabetes from Medical Records::\n",
        "#### Dataset (Pima Indians Database): (https://www.kaggle.com/uciml/pima-indians-diabetes-database)\n",
        " - Features: Pregnancies, Glucose, BloodPressure, SkinThickness, Insulin, BMI, DiabetesPedigreeFunction, and Age\n",
        " - Outcome: Normal(0) vs Diabetes(1)\n",
        " \n",
        "### Simple Neural Network"
      ]
    },
    {
      "cell_type": "code",
      "metadata": {
        "id": "TrthSu_HGp2B",
        "colab_type": "code",
        "outputId": "a6c77b29-af01-484f-8c54-bfc3e0cf030d",
        "colab": {
          "base_uri": "https://localhost:8080/",
          "height": 126
        }
      },
      "source": [
        "from google.colab import drive\n",
        "drive.mount('/content/drive/')"
      ],
      "execution_count": 0,
      "outputs": [
        {
          "output_type": "stream",
          "text": [
            "Go to this URL in a browser: https://accounts.google.com/o/oauth2/auth?client_id=947318989803-6bn6qk8qdgf4n4g3pfee6491hc0brc4i.apps.googleusercontent.com&redirect_uri=urn%3Aietf%3Awg%3Aoauth%3A2.0%3Aoob&scope=email%20https%3A%2F%2Fwww.googleapis.com%2Fauth%2Fdocs.test%20https%3A%2F%2Fwww.googleapis.com%2Fauth%2Fdrive%20https%3A%2F%2Fwww.googleapis.com%2Fauth%2Fdrive.photos.readonly%20https%3A%2F%2Fwww.googleapis.com%2Fauth%2Fpeopleapi.readonly&response_type=code\n",
            "\n",
            "Enter your authorization code:\n",
            "··········\n",
            "Mounted at /content/drive/\n"
          ],
          "name": "stdout"
        }
      ]
    },
    {
      "cell_type": "code",
      "metadata": {
        "id": "BRJ462toG4j6",
        "colab_type": "code",
        "outputId": "7a3b3cd1-9d24-4e55-d951-e171d8959e25",
        "colab": {
          "base_uri": "https://localhost:8080/",
          "height": 34
        }
      },
      "source": [
        "ls"
      ],
      "execution_count": 0,
      "outputs": [
        {
          "output_type": "stream",
          "text": [
            "\u001b[0m\u001b[01;34mdrive\u001b[0m/  \u001b[01;34msample_data\u001b[0m/\n"
          ],
          "name": "stdout"
        }
      ]
    },
    {
      "cell_type": "code",
      "metadata": {
        "id": "WB02x-4jG4tV",
        "colab_type": "code",
        "outputId": "e360e270-d735-455e-c6ff-c70cf2c77225",
        "colab": {
          "base_uri": "https://localhost:8080/",
          "height": 34
        }
      },
      "source": [
        "cd drive/My\\ Drive"
      ],
      "execution_count": 0,
      "outputs": [
        {
          "output_type": "stream",
          "text": [
            "/content/drive/My Drive\n"
          ],
          "name": "stdout"
        }
      ]
    },
    {
      "cell_type": "code",
      "metadata": {
        "id": "Ce45fJg0G4zf",
        "colab_type": "code",
        "outputId": "1b1448bf-91a3-460f-e154-ea9c50c01d16",
        "colab": {
          "base_uri": "https://localhost:8080/",
          "height": 106
        }
      },
      "source": [
        "ls"
      ],
      "execution_count": 0,
      "outputs": [
        {
          "output_type": "stream",
          "text": [
            "'Business Model Canvas.gdoc'  'Leftovers .gdoc'\n",
            " \u001b[0m\u001b[01;34mCITREP_Data+Code\u001b[0m/            'Oral Presentation.gdoc'\n",
            " \u001b[01;34mClassroom\u001b[0m/                   'Quality Control.gdoc'\n",
            "\u001b[01;34m'Colab Notebooks'\u001b[0m/            'Quality Control Slides.gslides'\n",
            "'Getting started.pdf'\n"
          ],
          "name": "stdout"
        }
      ]
    },
    {
      "cell_type": "code",
      "metadata": {
        "id": "ylWPNDfdG8Dh",
        "colab_type": "code",
        "outputId": "f9da42bb-69d6-460a-b81f-9f3907db894c",
        "colab": {
          "base_uri": "https://localhost:8080/",
          "height": 34
        }
      },
      "source": [
        "cd CITREP_Data+Code/"
      ],
      "execution_count": 0,
      "outputs": [
        {
          "output_type": "stream",
          "text": [
            "/content/drive/My Drive/CITREP_Data+Code\n"
          ],
          "name": "stdout"
        }
      ]
    },
    {
      "cell_type": "code",
      "metadata": {
        "id": "gqmJrG1rG8gy",
        "colab_type": "code",
        "outputId": "d4c0b4fb-8431-47a6-8911-51523e67086c",
        "colab": {
          "base_uri": "https://localhost:8080/",
          "height": 461
        }
      },
      "source": [
        "ls"
      ],
      "execution_count": 0,
      "outputs": [
        {
          "output_type": "stream",
          "text": [
            " 2a-TensorFlow-Data-Loading.ipynb\n",
            " 2b-TensorFlow-ML.ipynb\n",
            " 3a-TF-FcNN-MNIST.ipynb\n",
            " 3b-TF-FcNN-MNIST-Exercise.ipynb\n",
            " 3c-FcNN-CIFAR10.ipynb\n",
            " 3d-FcNN-CIFAR10-Exercise.ipynb\n",
            " 3-diabetic-NeuralNet-Exercise-TF.ipynb\n",
            " 3e-keras-FCNN-MNIST.ipynb\n",
            " 3f-keras-FcNN-dogscats.ipynb\n",
            " 3g-keras-FcNN-bloodcell-Exercise.ipynb\n",
            " 3h-keras-FC-AutoEncoder.ipynb\n",
            " 4a-MNIST-CNN-TF.ipynb\n",
            " 4b-CIFAR10-CNN-TF-Exercise.ipynb\n",
            " 5a-keras-CNN-dogscats.ipynb\n",
            " 5b-keras-CNN-Bloodcell.ipynb\n",
            " 5c-keras-Con-AutoEncoder.ipynb\n",
            " 5d-keras-Vgg16-dogscats.ipynb\n",
            " 5e-Resnet50-keras-dogscats-Exercise.ipynb\n",
            " 6-Semeion-Classification-SimpleCNN-Exercise.ipynb\n",
            " 7-RNN-IMDB.ipynb\n",
            "'CITREP+ - Clarence & Dr Sudipta - Deep Learning with Tensorflow and Python - v2.pdf'\n",
            " \u001b[0m\u001b[01;34mData\u001b[0m/\n",
            " \u001b[01;34mmnist\u001b[0m/\n",
            " \u001b[01;34mmodels\u001b[0m/\n",
            " tensorboard.ipynb\n"
          ],
          "name": "stdout"
        }
      ]
    },
    {
      "cell_type": "code",
      "metadata": {
        "id": "UdnHJnZUGgjb",
        "colab_type": "code",
        "colab": {}
      },
      "source": [
        "import numpy as np\n",
        "import pandas as pd\n",
        "import seaborn as sns\n",
        "from sklearn.model_selection import train_test_split\n",
        "from sklearn.preprocessing import Imputer\n",
        "import tensorflow as tf\n",
        "\n",
        "import matplotlib.pyplot as plt"
      ],
      "execution_count": 0,
      "outputs": []
    },
    {
      "cell_type": "code",
      "metadata": {
        "id": "LAAohzR3Ggje",
        "colab_type": "code",
        "colab": {}
      },
      "source": [
        "# Build model with learning rate = 0.01\n",
        "# Number od epochs = 10\n",
        "learning_rate = 0.01\n",
        "training_epochs = 500"
      ],
      "execution_count": 0,
      "outputs": []
    },
    {
      "cell_type": "code",
      "metadata": {
        "id": "HzV8Rho5Ggjg",
        "colab_type": "code",
        "outputId": "ebb04380-ef3e-49e5-b99c-f0198b7043ca",
        "colab": {
          "base_uri": "https://localhost:8080/",
          "height": 202
        }
      },
      "source": [
        "#if you don't want to transfer the file out to the same folder as the notebook, just do Data/...\n",
        "df = pd.read_csv(\"Data/diabetes.csv\")\n",
        "df.head()"
      ],
      "execution_count": 0,
      "outputs": [
        {
          "output_type": "execute_result",
          "data": {
            "text/html": [
              "<div>\n",
              "<style scoped>\n",
              "    .dataframe tbody tr th:only-of-type {\n",
              "        vertical-align: middle;\n",
              "    }\n",
              "\n",
              "    .dataframe tbody tr th {\n",
              "        vertical-align: top;\n",
              "    }\n",
              "\n",
              "    .dataframe thead th {\n",
              "        text-align: right;\n",
              "    }\n",
              "</style>\n",
              "<table border=\"1\" class=\"dataframe\">\n",
              "  <thead>\n",
              "    <tr style=\"text-align: right;\">\n",
              "      <th></th>\n",
              "      <th>Pregnancies</th>\n",
              "      <th>Glucose</th>\n",
              "      <th>BloodPressure</th>\n",
              "      <th>SkinThickness</th>\n",
              "      <th>Insulin</th>\n",
              "      <th>BMI</th>\n",
              "      <th>DiabetesPedigreeFunction</th>\n",
              "      <th>Age</th>\n",
              "      <th>Outcome</th>\n",
              "    </tr>\n",
              "  </thead>\n",
              "  <tbody>\n",
              "    <tr>\n",
              "      <th>0</th>\n",
              "      <td>6</td>\n",
              "      <td>148</td>\n",
              "      <td>72</td>\n",
              "      <td>35</td>\n",
              "      <td>0</td>\n",
              "      <td>33.6</td>\n",
              "      <td>0.627</td>\n",
              "      <td>50</td>\n",
              "      <td>1</td>\n",
              "    </tr>\n",
              "    <tr>\n",
              "      <th>1</th>\n",
              "      <td>1</td>\n",
              "      <td>85</td>\n",
              "      <td>66</td>\n",
              "      <td>29</td>\n",
              "      <td>0</td>\n",
              "      <td>26.6</td>\n",
              "      <td>0.351</td>\n",
              "      <td>31</td>\n",
              "      <td>0</td>\n",
              "    </tr>\n",
              "    <tr>\n",
              "      <th>2</th>\n",
              "      <td>8</td>\n",
              "      <td>183</td>\n",
              "      <td>64</td>\n",
              "      <td>0</td>\n",
              "      <td>0</td>\n",
              "      <td>23.3</td>\n",
              "      <td>0.672</td>\n",
              "      <td>32</td>\n",
              "      <td>1</td>\n",
              "    </tr>\n",
              "    <tr>\n",
              "      <th>3</th>\n",
              "      <td>1</td>\n",
              "      <td>89</td>\n",
              "      <td>66</td>\n",
              "      <td>23</td>\n",
              "      <td>94</td>\n",
              "      <td>28.1</td>\n",
              "      <td>0.167</td>\n",
              "      <td>21</td>\n",
              "      <td>0</td>\n",
              "    </tr>\n",
              "    <tr>\n",
              "      <th>4</th>\n",
              "      <td>0</td>\n",
              "      <td>137</td>\n",
              "      <td>40</td>\n",
              "      <td>35</td>\n",
              "      <td>168</td>\n",
              "      <td>43.1</td>\n",
              "      <td>2.288</td>\n",
              "      <td>33</td>\n",
              "      <td>1</td>\n",
              "    </tr>\n",
              "  </tbody>\n",
              "</table>\n",
              "</div>"
            ],
            "text/plain": [
              "   Pregnancies  Glucose  BloodPressure  ...  DiabetesPedigreeFunction  Age  Outcome\n",
              "0            6      148             72  ...                     0.627   50        1\n",
              "1            1       85             66  ...                     0.351   31        0\n",
              "2            8      183             64  ...                     0.672   32        1\n",
              "3            1       89             66  ...                     0.167   21        0\n",
              "4            0      137             40  ...                     2.288   33        1\n",
              "\n",
              "[5 rows x 9 columns]"
            ]
          },
          "metadata": {
            "tags": []
          },
          "execution_count": 9
        }
      ]
    },
    {
      "cell_type": "markdown",
      "metadata": {
        "id": "Cl67JElHGgji",
        "colab_type": "text"
      },
      "source": [
        "### Checking Missing/Null Values for different Features"
      ]
    },
    {
      "cell_type": "code",
      "metadata": {
        "id": "byACf7ZCGgjj",
        "colab_type": "code",
        "outputId": "bebbafe3-20c9-41a6-a157-e94618ae12ba",
        "colab": {
          "base_uri": "https://localhost:8080/",
          "height": 230
        }
      },
      "source": [
        "df1 = df.iloc[:, :-1]\n",
        "print(\"\\nColumn Name           % of Null Values\\n\")\n",
        "# print((df1[:] == 0).sum())\n",
        "((df1[:] == 0).sum())/768*100"
      ],
      "execution_count": 0,
      "outputs": [
        {
          "output_type": "stream",
          "text": [
            "\n",
            "Column Name           % of Null Values\n",
            "\n"
          ],
          "name": "stdout"
        },
        {
          "output_type": "execute_result",
          "data": {
            "text/plain": [
              "Pregnancies                 14.453125\n",
              "Glucose                      0.651042\n",
              "BloodPressure                4.557292\n",
              "SkinThickness               29.557292\n",
              "Insulin                     48.697917\n",
              "BMI                          1.432292\n",
              "DiabetesPedigreeFunction     0.000000\n",
              "Age                          0.000000\n",
              "dtype: float64"
            ]
          },
          "metadata": {
            "tags": []
          },
          "execution_count": 10
        }
      ]
    },
    {
      "cell_type": "code",
      "metadata": {
        "id": "uCFY5u_RGgjl",
        "colab_type": "code",
        "outputId": "6c657a1a-6b1c-4c10-b790-a14760b80ca5",
        "colab": {
          "base_uri": "https://localhost:8080/",
          "height": 409
        }
      },
      "source": [
        "# this plots the correlation data between each of the parameters\n",
        "corr = df[df.columns].corr()\n",
        "sns.heatmap(corr, cmap=\"Greens\", annot = False)"
      ],
      "execution_count": 0,
      "outputs": [
        {
          "output_type": "execute_result",
          "data": {
            "text/plain": [
              "<matplotlib.axes._subplots.AxesSubplot at 0x7f85f9c37c88>"
            ]
          },
          "metadata": {
            "tags": []
          },
          "execution_count": 11
        },
        {
          "output_type": "display_data",
          "data": {
            "image/png": "[encoded data removed]",
            "text/plain": [
              "<Figure size 432x288 with 2 Axes>"
            ]
          },
          "metadata": {
            "tags": []
          }
        }
      ]
    },
    {
      "cell_type": "markdown",
      "metadata": {
        "id": "yBovQ6ADGgjn",
        "colab_type": "text"
      },
      "source": [
        "#### From the correlation plot, it is clear that Features with null values (Insulin and SkinThickness) are not correlated with the outcome.\n",
        "### Prepare Dataset for Training and Testing"
      ]
    },
    {
      "cell_type": "code",
      "metadata": {
        "id": "9w830G7ZGgjo",
        "colab_type": "code",
        "colab": {}
      },
      "source": [
        "# google the iloc() function\n",
        "X = df.iloc[:, :-1] #everything in the dataset df except for the last column \"outcome\"\n",
        "y = df.iloc[:, -1] # y contains only the \"outcome\" column\n",
        "X_trainold, X_testold, y_train, y_test = train_test_split(X, y, test_size=0.2, random_state=1)"
      ],
      "execution_count": 0,
      "outputs": []
    },
    {
      "cell_type": "code",
      "metadata": {
        "id": "9y-sSo44NJrP",
        "colab_type": "code",
        "colab": {}
      },
      "source": [
        "# df.iloc[:, :-1]"
      ],
      "execution_count": 0,
      "outputs": []
    },
    {
      "cell_type": "code",
      "metadata": {
        "id": "Cyu1iZMxGgjq",
        "colab_type": "code",
        "outputId": "5db7531a-faa9-426e-8fcb-bc9a99d33dd5",
        "colab": {
          "base_uri": "https://localhost:8080/",
          "height": 52
        }
      },
      "source": [
        "print(\"X_shape:\",X.shape,\"Y_shape:\",y.shape)\n",
        "print(\"X_Train:\",X_trainold.shape,\"X_Test:\", X_testold.shape)"
      ],
      "execution_count": 0,
      "outputs": [
        {
          "output_type": "stream",
          "text": [
            "X_shape: (768, 8) Y_shape: (768,)\n",
            "X_Train: (614, 8) X_Test: (154, 8)\n"
          ],
          "name": "stdout"
        }
      ]
    },
    {
      "cell_type": "markdown",
      "metadata": {
        "id": "C6soOGq4Ggjs",
        "colab_type": "text"
      },
      "source": [
        "### Missing Values are replaced by Median"
      ]
    },
    {
      "cell_type": "code",
      "metadata": {
        "id": "GWY8vls1Ggjt",
        "colab_type": "code",
        "outputId": "04670e10-0875-4350-e0e7-c93d15beac8a",
        "colab": {
          "base_uri": "https://localhost:8080/",
          "height": 72
        }
      },
      "source": [
        "imputer = Imputer(missing_values=0,strategy='median')\n",
        "X_train = imputer.fit_transform(X_trainold)\n",
        "X_test = imputer.transform(X_testold)"
      ],
      "execution_count": 0,
      "outputs": [
        {
          "output_type": "stream",
          "text": [
            "/usr/local/lib/python3.6/dist-packages/sklearn/utils/deprecation.py:66: DeprecationWarning: Class Imputer is deprecated; Imputer was deprecated in version 0.20 and will be removed in 0.22. Import impute.SimpleImputer from sklearn instead.\n",
            "  warnings.warn(msg, category=DeprecationWarning)\n"
          ],
          "name": "stderr"
        }
      ]
    },
    {
      "cell_type": "code",
      "metadata": {
        "id": "UUEMsEkdGgjv",
        "colab_type": "code",
        "outputId": "0a84d5d2-6b45-47f0-e6fd-19cf9c786553",
        "colab": {
          "base_uri": "https://localhost:8080/",
          "height": 34
        }
      },
      "source": [
        "print(\"X_Train:\",X_train.shape,\"X_Test:\", X_test.shape)"
      ],
      "execution_count": 0,
      "outputs": [
        {
          "output_type": "stream",
          "text": [
            "X_Train: (614, 8) X_Test: (154, 8)\n"
          ],
          "name": "stdout"
        }
      ]
    },
    {
      "cell_type": "code",
      "metadata": {
        "id": "tcv_AgAzGgjy",
        "colab_type": "code",
        "outputId": "5f194473-33cf-4f1e-d5ec-d23419f5ae8f",
        "colab": {
          "base_uri": "https://localhost:8080/",
          "height": 88
        }
      },
      "source": [
        "mean = X_train.mean(axis=0)\n",
        "std = X_train.std(axis=0)\n",
        "print(\"Mean: \",mean)\n",
        "print(\"Std: \",std)"
      ],
      "execution_count": 0,
      "outputs": [
        {
          "output_type": "stream",
          "text": [
            "Mean:  [  4.43973941 121.82899023  72.26221498  28.84201954 141.33224756\n",
            "  32.19723127   0.46379479  33.2980456 ]\n",
            "Std:  [ 2.99817272 30.47429215 12.40618104  8.5871349  87.34394387  6.81501567\n",
            "  0.327095   11.80062782]\n"
          ],
          "name": "stdout"
        }
      ]
    },
    {
      "cell_type": "markdown",
      "metadata": {
        "id": "Fg1rR-EBGgj0",
        "colab_type": "text"
      },
      "source": [
        "### Preparing the data\n",
        "#### To deal with different scale for different features, need to do feature-wise normalization: For each feature substract the feature-mean and divide by the feature-standard_deviation. So that the feature is centered around 0 and has a unit standard deviation."
      ]
    },
    {
      "cell_type": "code",
      "metadata": {
        "id": "oDWzVPTOGgj0",
        "colab_type": "code",
        "colab": {}
      },
      "source": [
        "X_train -= mean\n",
        "X_train /= std\n",
        "\n",
        "X_test -= mean \n",
        "X_test /= std   "
      ],
      "execution_count": 0,
      "outputs": []
    },
    {
      "cell_type": "code",
      "metadata": {
        "id": "ZUUxlpN8Ggj3",
        "colab_type": "code",
        "outputId": "4034d51e-2f75-4c25-9804-a01eae463f7d",
        "colab": {
          "base_uri": "https://localhost:8080/",
          "height": 52
        }
      },
      "source": [
        "X_train.mean(axis=0)"
      ],
      "execution_count": 0,
      "outputs": [
        {
          "output_type": "execute_result",
          "data": {
            "text/plain": [
              "array([7.81134115e-17, 9.40254027e-17, 4.77359737e-16, 1.44654466e-16,\n",
              "       1.15723573e-17, 6.84938895e-16, 1.51887189e-16, 2.19874788e-16])"
            ]
          },
          "metadata": {
            "tags": []
          },
          "execution_count": 31
        }
      ]
    },
    {
      "cell_type": "code",
      "metadata": {
        "id": "w8IzMXpXGgj5",
        "colab_type": "code",
        "outputId": "9e6099d1-4554-4dc2-ccb4-e6a8893ee747",
        "colab": {
          "base_uri": "https://localhost:8080/",
          "height": 34
        }
      },
      "source": [
        "X_train.std(axis=0)"
      ],
      "execution_count": 0,
      "outputs": [
        {
          "output_type": "execute_result",
          "data": {
            "text/plain": [
              "array([1., 1., 1., 1., 1., 1., 1., 1.])"
            ]
          },
          "metadata": {
            "tags": []
          },
          "execution_count": 32
        }
      ]
    },
    {
      "cell_type": "code",
      "metadata": {
        "id": "upvahhOYGgj7",
        "colab_type": "code",
        "colab": {}
      },
      "source": [
        "#preparing our levels as one hot encoding\n",
        "from keras.utils import to_categorical\n",
        "y_train1 = to_categorical(y_train)\n",
        "y_test1 = to_categorical(y_test)"
      ],
      "execution_count": 0,
      "outputs": []
    },
    {
      "cell_type": "code",
      "metadata": {
        "id": "5NBMAMroGgj9",
        "colab_type": "code",
        "outputId": "26d77294-4dee-4512-a4c8-9fb86134f55a",
        "colab": {
          "base_uri": "https://localhost:8080/",
          "height": 34
        }
      },
      "source": [
        "y_train1[1]"
      ],
      "execution_count": 0,
      "outputs": [
        {
          "output_type": "execute_result",
          "data": {
            "text/plain": [
              "array([0., 1.], dtype=float32)"
            ]
          },
          "metadata": {
            "tags": []
          },
          "execution_count": 34
        }
      ]
    },
    {
      "cell_type": "markdown",
      "metadata": {
        "id": "SPB-ccNLGgj_",
        "colab_type": "text"
      },
      "source": [
        "### Build the Network Model"
      ]
    },
    {
      "cell_type": "code",
      "metadata": {
        "id": "fJHE5osiGgkA",
        "colab_type": "code",
        "colab": {}
      },
      "source": [
        "# Build a FcNN model with 2 hidden layers (20 and 10 nurons respectively)\n",
        "# use sigmoid as activation function"
      ],
      "execution_count": 0,
      "outputs": []
    },
    {
      "cell_type": "code",
      "metadata": {
        "id": "LUF98gUtOt1K",
        "colab_type": "code",
        "colab": {}
      },
      "source": [
        "#-----------------------------------------------------------------------------------------MY ANSWER----------------------------------------------------------------------------------------------"
      ],
      "execution_count": 0,
      "outputs": []
    },
    {
      "cell_type": "code",
      "metadata": {
        "id": "GsY7NC4AI3wV",
        "colab_type": "code",
        "colab": {}
      },
      "source": [
        "import tensorflow as tf\n",
        "\n",
        "# Hyper Parameters\n",
        "learning_rate = 0.01\n",
        "training_epochs = 500\n",
        "\n",
        "#data boxes (boxes contain 100 random data points from the dataset) \n",
        "#based on how much ram your com has, you can increase the batch size\n",
        "batch_size = 100 \n",
        "\n",
        "tf.set_random_seed(25)"
      ],
      "execution_count": 0,
      "outputs": []
    },
    {
      "cell_type": "code",
      "metadata": {
        "id": "vuX725VeJAhf",
        "colab_type": "code",
        "colab": {}
      },
      "source": [
        "\n",
        "X = tf.placeholder(tf.float32, [None, 768*8])\n",
        "y = tf.placeholder(tf.float32, [None, 2]) "
      ],
      "execution_count": 0,
      "outputs": []
    },
    {
      "cell_type": "code",
      "metadata": {
        "id": "3rLDWgZOJs6K",
        "colab_type": "code",
        "colab": {}
      },
      "source": [
        "L1 = 20\n",
        "L2 = 10\n",
        "\n",
        "#in between the input layer \n",
        "W1 = tf.Variable(tf.truncated_normal([768*8, L1], stddev=0.1)) # 784 x 200 = 156800\n",
        "B1 = tf.Variable(tf.truncated_normal([L1],stddev=0.1)) # b1 = 200 because there are 200 neurons in hidden layer 1\n",
        "\n",
        "#in between hidden layer 1 and hideen layer 2\n",
        "W2 = tf.Variable(tf.truncated_normal([L1, L2], stddev=0.1))\n",
        "B2 = tf.Variable(tf.truncated_normal([L2],stddev=0.1))\n",
        "\n",
        "#in between hidden layer 2 and the output layer\n",
        "W3 = tf.Variable(tf.truncated_normal([L2, 2], stddev=0.1))\n",
        "B3 = tf.Variable(tf.truncated_normal([2],stddev=0.1))\n"
      ],
      "execution_count": 0,
      "outputs": []
    },
    {
      "cell_type": "code",
      "metadata": {
        "id": "QLeJrGoNKoKf",
        "colab_type": "code",
        "colab": {}
      },
      "source": [
        "Y1 = tf.nn.sigmoid(tf.matmul(X, W1) + B1)\n",
        "Y2 = tf.nn.sigmoid(tf.matmul(Y1, W2) + B2)\n",
        "\n",
        "Ylogits = tf.matmul(Y2, W3) + B3\n",
        "yhat = tf.nn.softmax(Ylogits)"
      ],
      "execution_count": 0,
      "outputs": []
    },
    {
      "cell_type": "code",
      "metadata": {
        "id": "ZWdRA9U3GgkC",
        "colab_type": "code",
        "colab": {}
      },
      "source": [
        "loss = tf.reduce_mean(\n",
        "   tf.nn.softmax_cross_entropy_with_logits_v2(labels=y, logits=Ylogits))\n",
        "\n",
        "train = tf.train.AdamOptimizer(learning_rate).minimize(loss)"
      ],
      "execution_count": 0,
      "outputs": []
    },
    {
      "cell_type": "code",
      "metadata": {
        "id": "kNmgZHvSGgkF",
        "colab_type": "code",
        "colab": {}
      },
      "source": [
        "is_correct = tf.equal(tf.argmax(y,1),tf.argmax(yhat,1))\n",
        "accuracy = tf.reduce_mean(tf.cast(is_correct,tf.float32))\n",
        "\n",
        "init = tf.global_variables_initializer()\n",
        "sess = tf.Session()\n",
        "sess.run(init)"
      ],
      "execution_count": 0,
      "outputs": []
    },
    {
      "cell_type": "code",
      "metadata": {
        "id": "-y4hYNeEK_lk",
        "colab_type": "code",
        "colab": {}
      },
      "source": [
        "# Step 5: Training Loop\n",
        "for epoch in range(training_epochs):\n",
        "  train_data = {X: batch_X, y: batch_y}\n",
        "  sess.run(train, feed_dict=train_data)\n",
        "  print(epoch*num_batches+i+1, \"Training accuracy =\", sess.run(accuracy, feed_dict=train_data),\n",
        "        \"Loss =\", sess.run(loss, feed_dict=train_data))"
      ],
      "execution_count": 0,
      "outputs": []
    },
    {
      "cell_type": "code",
      "metadata": {
        "id": "Jr-hdp_WGgkH",
        "colab_type": "code",
        "colab": {}
      },
      "source": [
        "# calculate the performance with Test data\n",
        "test_data = {X:mnist.test.images,y:mnist.test.labels}\n",
        "print(\"Testing Accuracy = \", sess.run(accuracy, feed_dict = test_data))"
      ],
      "execution_count": 0,
      "outputs": []
    },
    {
      "cell_type": "code",
      "metadata": {
        "id": "yHFHPovROFb6",
        "colab_type": "code",
        "colab": {}
      },
      "source": [
        "#---------------------------------------------------------------------------------------TEACHER'S ANSWERS---------------------------------------------------------------------------------"
      ],
      "execution_count": 0,
      "outputs": []
    },
    {
      "cell_type": "code",
      "metadata": {
        "id": "6KP4vklPOKU7",
        "colab_type": "code",
        "colab": {}
      },
      "source": [
        "# Hyper Parameters\n",
        "learning_rate = 0.01\n",
        "training_epochs = 500\n",
        "\n",
        "tf.set_random_seed(50)\n",
        "\n",
        "X = tf.placeholder(tf.float32, [None, 8]) \n",
        "y = tf.placeholder(tf.float32, [None, 2])"
      ],
      "execution_count": 0,
      "outputs": []
    },
    {
      "cell_type": "code",
      "metadata": {
        "id": "1jgd2UiROOjE",
        "colab_type": "code",
        "colab": {}
      },
      "source": [
        "L1 = 20\n",
        "L2 = 10\n",
        "\n",
        "#in between the input layer \n",
        "W1 = tf.Variable(tf.truncated_normal([8, L1], stddev=0.1)) \n",
        "B1 = tf.Variable(tf.truncated_normal([L1],stddev=0.1))\n",
        "\n",
        "#in between hidden layer 1 and hideen layer 2\n",
        "W2 = tf.Variable(tf.truncated_normal([L1, L2], stddev=0.1))\n",
        "B2 = tf.Variable(tf.truncated_normal([L2],stddev=0.1))\n",
        "\n",
        "#in between hidden layer 2 and the output layer\n",
        "W3 = tf.Variable(tf.truncated_normal([L2, 2], stddev=0.1))\n",
        "B3 = tf.Variable(tf.truncated_normal([2],stddev=0.1))"
      ],
      "execution_count": 0,
      "outputs": []
    },
    {
      "cell_type": "code",
      "metadata": {
        "id": "JROlzUYGOX1D",
        "colab_type": "code",
        "colab": {}
      },
      "source": [
        "Y1 = tf.nn.sigmoid(tf.matmul(X, W1) + B1)\n",
        "Y2 = tf.nn.sigmoid(tf.matmul(Y1, W2) + B2)\n",
        "\n",
        "Ylogits = tf.matmul(Y2, W3) + B3\n",
        "yhat = tf.nn.softmax(Ylogits)"
      ],
      "execution_count": 0,
      "outputs": []
    },
    {
      "cell_type": "code",
      "metadata": {
        "id": "4bFosr67Oeqj",
        "colab_type": "code",
        "colab": {}
      },
      "source": [
        "loss = tf.reduce_mean(\n",
        "   tf.nn.softmax_cross_entropy_with_logits_v2(labels=y, logits=Ylogits))\n",
        "\n",
        "train = tf.train.AdamOptimizer(learning_rate).minimize(loss)"
      ],
      "execution_count": 0,
      "outputs": []
    },
    {
      "cell_type": "code",
      "metadata": {
        "id": "jAzqA1LXOhlg",
        "colab_type": "code",
        "colab": {}
      },
      "source": [
        "is_correct = tf.equal(tf.argmax(y,1),tf.argmax(yhat,1))\n",
        "accuracy = tf.reduce_mean(tf.cast(is_correct,tf.float32))\n",
        "\n",
        "init = tf.global_variables_initializer()\n",
        "sess = tf.Session()\n",
        "sess.run(init)"
      ],
      "execution_count": 0,
      "outputs": []
    },
    {
      "cell_type": "code",
      "metadata": {
        "id": "krSQ8n5LOioo",
        "colab_type": "code",
        "outputId": "7135d969-c9c3-4a19-a3c4-22b8c9aacf09",
        "colab": {
          "base_uri": "https://localhost:8080/",
          "height": 1000
        }
      },
      "source": [
        "# Step 5: Training Loop\n",
        "for epoch in range(training_epochs):\n",
        "  train_data = {X: X_train, y: y_train1}\n",
        "  sess.run(train, feed_dict=train_data)\n",
        "  print(epoch, \"Training accuracy =\", sess.run(accuracy, feed_dict=train_data),\n",
        "        \"Loss =\", sess.run(loss, feed_dict=train_data))"
      ],
      "execution_count": 0,
      "outputs": [
        {
          "output_type": "stream",
          "text": [
            "0 Training accuracy = 0.6530945 Loss = 0.6495516\n",
            "1 Training accuracy = 0.6530945 Loss = 0.6448405\n",
            "2 Training accuracy = 0.6530945 Loss = 0.64463186\n",
            "3 Training accuracy = 0.6530945 Loss = 0.64607024\n",
            "4 Training accuracy = 0.6530945 Loss = 0.6463362\n",
            "5 Training accuracy = 0.6530945 Loss = 0.6448942\n",
            "6 Training accuracy = 0.6530945 Loss = 0.64255667\n",
            "7 Training accuracy = 0.6530945 Loss = 0.64023095\n",
            "8 Training accuracy = 0.6530945 Loss = 0.6384355\n",
            "9 Training accuracy = 0.6530945 Loss = 0.63721484\n",
            "10 Training accuracy = 0.6530945 Loss = 0.6362623\n",
            "11 Training accuracy = 0.6530945 Loss = 0.6351488\n",
            "12 Training accuracy = 0.6530945 Loss = 0.63354\n",
            "13 Training accuracy = 0.6530945 Loss = 0.6313098\n",
            "14 Training accuracy = 0.6530945 Loss = 0.62852764\n",
            "15 Training accuracy = 0.6530945 Loss = 0.6253718\n",
            "16 Training accuracy = 0.6530945 Loss = 0.62202835\n",
            "17 Training accuracy = 0.6530945 Loss = 0.6186121\n",
            "18 Training accuracy = 0.6530945 Loss = 0.61513126\n",
            "19 Training accuracy = 0.6530945 Loss = 0.6115012\n",
            "20 Training accuracy = 0.6530945 Loss = 0.6075982\n",
            "21 Training accuracy = 0.6530945 Loss = 0.6033243\n",
            "22 Training accuracy = 0.6530945 Loss = 0.5986556\n",
            "23 Training accuracy = 0.6530945 Loss = 0.5936467\n",
            "24 Training accuracy = 0.6530945 Loss = 0.58840114\n",
            "25 Training accuracy = 0.6530945 Loss = 0.5830208\n",
            "26 Training accuracy = 0.6514658 Loss = 0.5775682\n",
            "27 Training accuracy = 0.65798044 Loss = 0.57205456\n",
            "28 Training accuracy = 0.67589575 Loss = 0.56646097\n",
            "29 Training accuracy = 0.6921824 Loss = 0.56077284\n",
            "30 Training accuracy = 0.70358306 Loss = 0.55500793\n",
            "31 Training accuracy = 0.71986973 Loss = 0.54922354\n",
            "32 Training accuracy = 0.7247557 Loss = 0.543503\n",
            "33 Training accuracy = 0.7296417 Loss = 0.537933\n",
            "34 Training accuracy = 0.73615634 Loss = 0.53258586\n",
            "35 Training accuracy = 0.7410423 Loss = 0.5275107\n",
            "36 Training accuracy = 0.74592835 Loss = 0.5227381\n",
            "37 Training accuracy = 0.74429965 Loss = 0.51828897\n",
            "38 Training accuracy = 0.7312704 Loss = 0.51418245\n",
            "39 Training accuracy = 0.732899 Loss = 0.5104343\n",
            "40 Training accuracy = 0.73615634 Loss = 0.50705045\n",
            "41 Training accuracy = 0.7394137 Loss = 0.5040174\n",
            "42 Training accuracy = 0.7394137 Loss = 0.5012978\n",
            "43 Training accuracy = 0.7345277 Loss = 0.49883595\n",
            "44 Training accuracy = 0.7345277 Loss = 0.49657103\n",
            "45 Training accuracy = 0.74592835 Loss = 0.49445036\n",
            "46 Training accuracy = 0.747557 Loss = 0.49243715\n",
            "47 Training accuracy = 0.7491857 Loss = 0.49050814\n",
            "48 Training accuracy = 0.7589577 Loss = 0.48864487\n",
            "49 Training accuracy = 0.7605863 Loss = 0.48682892\n",
            "50 Training accuracy = 0.767101 Loss = 0.4850434\n",
            "51 Training accuracy = 0.7687296 Loss = 0.48328084\n",
            "52 Training accuracy = 0.767101 Loss = 0.4815504\n",
            "53 Training accuracy = 0.76384366 Loss = 0.47987685\n",
            "54 Training accuracy = 0.76221496 Loss = 0.47829255\n",
            "55 Training accuracy = 0.7654723 Loss = 0.47682557\n",
            "56 Training accuracy = 0.767101 Loss = 0.4754926\n",
            "57 Training accuracy = 0.767101 Loss = 0.47429913\n",
            "58 Training accuracy = 0.7703583 Loss = 0.47324553\n",
            "59 Training accuracy = 0.77361566 Loss = 0.47232947\n",
            "60 Training accuracy = 0.77361566 Loss = 0.4715432\n",
            "61 Training accuracy = 0.77850163 Loss = 0.47086784\n",
            "62 Training accuracy = 0.776873 Loss = 0.47027633\n",
            "63 Training accuracy = 0.776873 Loss = 0.46974242\n",
            "64 Training accuracy = 0.77850163 Loss = 0.46925002\n",
            "65 Training accuracy = 0.77850163 Loss = 0.46879154\n",
            "66 Training accuracy = 0.77850163 Loss = 0.46836162\n",
            "67 Training accuracy = 0.776873 Loss = 0.46795347\n",
            "68 Training accuracy = 0.77361566 Loss = 0.46756095\n",
            "69 Training accuracy = 0.7687296 Loss = 0.4671832\n",
            "70 Training accuracy = 0.7687296 Loss = 0.46682233\n",
            "71 Training accuracy = 0.77198696 Loss = 0.46647793\n",
            "72 Training accuracy = 0.7703583 Loss = 0.46614546\n",
            "73 Training accuracy = 0.77198696 Loss = 0.46581802\n",
            "74 Training accuracy = 0.77198696 Loss = 0.46549132\n",
            "75 Training accuracy = 0.7703583 Loss = 0.4651639\n",
            "76 Training accuracy = 0.77198696 Loss = 0.46483514\n",
            "77 Training accuracy = 0.77198696 Loss = 0.46450508\n",
            "78 Training accuracy = 0.7703583 Loss = 0.46417677\n",
            "79 Training accuracy = 0.7703583 Loss = 0.46385664\n",
            "80 Training accuracy = 0.7703583 Loss = 0.4635527\n",
            "81 Training accuracy = 0.7703583 Loss = 0.46327022\n",
            "82 Training accuracy = 0.7703583 Loss = 0.4630107\n",
            "83 Training accuracy = 0.77198696 Loss = 0.46277207\n",
            "84 Training accuracy = 0.7703583 Loss = 0.46255037\n",
            "85 Training accuracy = 0.7703583 Loss = 0.46233782\n",
            "86 Training accuracy = 0.7703583 Loss = 0.46212417\n",
            "87 Training accuracy = 0.7687296 Loss = 0.46189782\n",
            "88 Training accuracy = 0.7703583 Loss = 0.46164876\n",
            "89 Training accuracy = 0.7687296 Loss = 0.4613701\n",
            "90 Training accuracy = 0.7687296 Loss = 0.46105808\n",
            "91 Training accuracy = 0.7687296 Loss = 0.4607112\n",
            "92 Training accuracy = 0.7654723 Loss = 0.46033132\n",
            "93 Training accuracy = 0.7654723 Loss = 0.45992225\n",
            "94 Training accuracy = 0.7654723 Loss = 0.45948896\n",
            "95 Training accuracy = 0.7654723 Loss = 0.45903537\n",
            "96 Training accuracy = 0.7687296 Loss = 0.45856392\n",
            "97 Training accuracy = 0.7687296 Loss = 0.45807594\n",
            "98 Training accuracy = 0.7703583 Loss = 0.45757157\n",
            "99 Training accuracy = 0.7703583 Loss = 0.45704958\n",
            "100 Training accuracy = 0.77198696 Loss = 0.45650828\n",
            "101 Training accuracy = 0.7703583 Loss = 0.45594633\n",
            "102 Training accuracy = 0.77198696 Loss = 0.45536378\n",
            "103 Training accuracy = 0.7752443 Loss = 0.45476148\n",
            "104 Training accuracy = 0.7752443 Loss = 0.45414123\n",
            "105 Training accuracy = 0.77850163 Loss = 0.45350608\n",
            "106 Training accuracy = 0.78175896 Loss = 0.45285964\n",
            "107 Training accuracy = 0.7833876 Loss = 0.4522055\n",
            "108 Training accuracy = 0.7850163 Loss = 0.45154694\n",
            "109 Training accuracy = 0.7850163 Loss = 0.45088723\n",
            "110 Training accuracy = 0.78664494 Loss = 0.45022866\n",
            "111 Training accuracy = 0.78664494 Loss = 0.44957396\n",
            "112 Training accuracy = 0.78664494 Loss = 0.4489248\n",
            "113 Training accuracy = 0.78664494 Loss = 0.44828328\n",
            "114 Training accuracy = 0.78827363 Loss = 0.44765162\n",
            "115 Training accuracy = 0.78827363 Loss = 0.44703168\n",
            "116 Training accuracy = 0.78664494 Loss = 0.44642514\n",
            "117 Training accuracy = 0.7833876 Loss = 0.4458333\n",
            "118 Training accuracy = 0.7850163 Loss = 0.44525692\n",
            "119 Training accuracy = 0.7833876 Loss = 0.4446959\n",
            "120 Training accuracy = 0.78013027 Loss = 0.4441497\n",
            "121 Training accuracy = 0.78013027 Loss = 0.44361714\n",
            "122 Training accuracy = 0.77850163 Loss = 0.44309708\n",
            "123 Training accuracy = 0.77850163 Loss = 0.44258857\n",
            "124 Training accuracy = 0.78013027 Loss = 0.44209057\n",
            "125 Training accuracy = 0.7833876 Loss = 0.44160208\n",
            "126 Training accuracy = 0.78013027 Loss = 0.4411226\n",
            "127 Training accuracy = 0.78013027 Loss = 0.44065085\n",
            "128 Training accuracy = 0.7833876 Loss = 0.44018608\n",
            "129 Training accuracy = 0.78175896 Loss = 0.4397269\n",
            "130 Training accuracy = 0.7833876 Loss = 0.4392724\n",
            "131 Training accuracy = 0.7833876 Loss = 0.43882185\n",
            "132 Training accuracy = 0.78175896 Loss = 0.43837512\n",
            "133 Training accuracy = 0.7833876 Loss = 0.43793222\n",
            "134 Training accuracy = 0.7833876 Loss = 0.43749395\n",
            "135 Training accuracy = 0.7850163 Loss = 0.4370607\n",
            "136 Training accuracy = 0.7850163 Loss = 0.43663338\n",
            "137 Training accuracy = 0.7850163 Loss = 0.4362123\n",
            "138 Training accuracy = 0.7850163 Loss = 0.43579772\n",
            "139 Training accuracy = 0.7850163 Loss = 0.43538967\n",
            "140 Training accuracy = 0.78827363 Loss = 0.4349881\n",
            "141 Training accuracy = 0.78827363 Loss = 0.43459272\n",
            "142 Training accuracy = 0.78827363 Loss = 0.43420327\n",
            "143 Training accuracy = 0.78990227 Loss = 0.43381912\n",
            "144 Training accuracy = 0.78990227 Loss = 0.43343922\n",
            "145 Training accuracy = 0.78990227 Loss = 0.4330629\n",
            "146 Training accuracy = 0.78827363 Loss = 0.43268925\n",
            "147 Training accuracy = 0.78827363 Loss = 0.43231717\n",
            "148 Training accuracy = 0.78827363 Loss = 0.43194574\n",
            "149 Training accuracy = 0.78827363 Loss = 0.43157443\n",
            "150 Training accuracy = 0.78664494 Loss = 0.43120274\n",
            "151 Training accuracy = 0.78664494 Loss = 0.43083018\n",
            "152 Training accuracy = 0.7850163 Loss = 0.4304567\n",
            "153 Training accuracy = 0.7850163 Loss = 0.430082\n",
            "154 Training accuracy = 0.7833876 Loss = 0.42970598\n",
            "155 Training accuracy = 0.7833876 Loss = 0.42932865\n",
            "156 Training accuracy = 0.7850163 Loss = 0.4289498\n",
            "157 Training accuracy = 0.7850163 Loss = 0.42856944\n",
            "158 Training accuracy = 0.7850163 Loss = 0.42818722\n",
            "159 Training accuracy = 0.78664494 Loss = 0.42780277\n",
            "160 Training accuracy = 0.78664494 Loss = 0.42741567\n",
            "161 Training accuracy = 0.7850163 Loss = 0.4270251\n",
            "162 Training accuracy = 0.7833876 Loss = 0.42663062\n",
            "163 Training accuracy = 0.7833876 Loss = 0.4262315\n",
            "164 Training accuracy = 0.7833876 Loss = 0.42582703\n",
            "165 Training accuracy = 0.7833876 Loss = 0.42541698\n",
            "166 Training accuracy = 0.78175896 Loss = 0.42500097\n",
            "167 Training accuracy = 0.78175896 Loss = 0.42457893\n",
            "168 Training accuracy = 0.78175896 Loss = 0.42415133\n",
            "169 Training accuracy = 0.7833876 Loss = 0.42371878\n",
            "170 Training accuracy = 0.7833876 Loss = 0.42328188\n",
            "171 Training accuracy = 0.78664494 Loss = 0.42284152\n",
            "172 Training accuracy = 0.78664494 Loss = 0.42239842\n",
            "173 Training accuracy = 0.78664494 Loss = 0.42195323\n",
            "174 Training accuracy = 0.78990227 Loss = 0.4215064\n",
            "175 Training accuracy = 0.7931596 Loss = 0.4210581\n",
            "176 Training accuracy = 0.7931596 Loss = 0.42060846\n",
            "177 Training accuracy = 0.7947883 Loss = 0.42015725\n",
            "178 Training accuracy = 0.7947883 Loss = 0.41970447\n",
            "179 Training accuracy = 0.7931596 Loss = 0.4192495\n",
            "180 Training accuracy = 0.7931596 Loss = 0.41879183\n",
            "181 Training accuracy = 0.7931596 Loss = 0.41833064\n",
            "182 Training accuracy = 0.7931596 Loss = 0.41786528\n",
            "183 Training accuracy = 0.7931596 Loss = 0.41739482\n",
            "184 Training accuracy = 0.7947883 Loss = 0.4169183\n",
            "185 Training accuracy = 0.79641694 Loss = 0.41643494\n",
            "186 Training accuracy = 0.79641694 Loss = 0.4159439\n",
            "187 Training accuracy = 0.79641694 Loss = 0.4154447\n",
            "188 Training accuracy = 0.7980456 Loss = 0.4149368\n",
            "189 Training accuracy = 0.7980456 Loss = 0.41441995\n",
            "190 Training accuracy = 0.7980456 Loss = 0.41389424\n",
            "191 Training accuracy = 0.7980456 Loss = 0.41335988\n",
            "192 Training accuracy = 0.7980456 Loss = 0.4128173\n",
            "193 Training accuracy = 0.7980456 Loss = 0.41226718\n",
            "194 Training accuracy = 0.7980456 Loss = 0.41171038\n",
            "195 Training accuracy = 0.7980456 Loss = 0.41114768\n",
            "196 Training accuracy = 0.7980456 Loss = 0.41058013\n",
            "197 Training accuracy = 0.7980456 Loss = 0.4100087\n",
            "198 Training accuracy = 0.7980456 Loss = 0.40943423\n",
            "199 Training accuracy = 0.7980456 Loss = 0.40885752\n",
            "200 Training accuracy = 0.7980456 Loss = 0.40827918\n",
            "201 Training accuracy = 0.79641694 Loss = 0.40769982\n",
            "202 Training accuracy = 0.7996743 Loss = 0.40712\n",
            "203 Training accuracy = 0.8013029 Loss = 0.40653986\n",
            "204 Training accuracy = 0.7996743 Loss = 0.4059597\n",
            "205 Training accuracy = 0.7996743 Loss = 0.40537974\n",
            "206 Training accuracy = 0.7996743 Loss = 0.40480018\n",
            "207 Training accuracy = 0.7996743 Loss = 0.40422112\n",
            "208 Training accuracy = 0.8013029 Loss = 0.4036428\n",
            "209 Training accuracy = 0.8013029 Loss = 0.4030655\n",
            "210 Training accuracy = 0.8029316 Loss = 0.40248954\n",
            "211 Training accuracy = 0.8029316 Loss = 0.40191507\n",
            "212 Training accuracy = 0.8029316 Loss = 0.4013426\n",
            "213 Training accuracy = 0.80456024 Loss = 0.40077248\n",
            "214 Training accuracy = 0.8078176 Loss = 0.400205\n",
            "215 Training accuracy = 0.8078176 Loss = 0.3996406\n",
            "216 Training accuracy = 0.8078176 Loss = 0.39907956\n",
            "217 Training accuracy = 0.8094463 Loss = 0.39852223\n",
            "218 Training accuracy = 0.8094463 Loss = 0.39796883\n",
            "219 Training accuracy = 0.8078176 Loss = 0.3974195\n",
            "220 Training accuracy = 0.8094463 Loss = 0.3968742\n",
            "221 Training accuracy = 0.8094463 Loss = 0.39633292\n",
            "222 Training accuracy = 0.8110749 Loss = 0.39579555\n",
            "223 Training accuracy = 0.8094463 Loss = 0.3952618\n",
            "224 Training accuracy = 0.8094463 Loss = 0.39473143\n",
            "225 Training accuracy = 0.8094463 Loss = 0.39420417\n",
            "226 Training accuracy = 0.8094463 Loss = 0.39367983\n",
            "227 Training accuracy = 0.8094463 Loss = 0.39315817\n",
            "228 Training accuracy = 0.8094463 Loss = 0.39263898\n",
            "229 Training accuracy = 0.8094463 Loss = 0.39212212\n",
            "230 Training accuracy = 0.8110749 Loss = 0.3916074\n",
            "231 Training accuracy = 0.8127036 Loss = 0.39109468\n",
            "232 Training accuracy = 0.8127036 Loss = 0.39058384\n",
            "233 Training accuracy = 0.8110749 Loss = 0.3900747\n",
            "234 Training accuracy = 0.8127036 Loss = 0.38956708\n",
            "235 Training accuracy = 0.8127036 Loss = 0.38906077\n",
            "236 Training accuracy = 0.8110749 Loss = 0.3885555\n",
            "237 Training accuracy = 0.8110749 Loss = 0.388051\n",
            "238 Training accuracy = 0.8127036 Loss = 0.38754708\n",
            "239 Training accuracy = 0.8110749 Loss = 0.3870433\n",
            "240 Training accuracy = 0.8110749 Loss = 0.3865395\n",
            "241 Training accuracy = 0.8110749 Loss = 0.38603517\n",
            "242 Training accuracy = 0.8110749 Loss = 0.38553014\n",
            "243 Training accuracy = 0.8110749 Loss = 0.38502383\n",
            "244 Training accuracy = 0.8094463 Loss = 0.3845162\n",
            "245 Training accuracy = 0.8094463 Loss = 0.38400695\n",
            "246 Training accuracy = 0.8094463 Loss = 0.38349584\n",
            "247 Training accuracy = 0.8094463 Loss = 0.38298276\n",
            "248 Training accuracy = 0.8078176 Loss = 0.38246766\n",
            "249 Training accuracy = 0.8078176 Loss = 0.38195062\n",
            "250 Training accuracy = 0.8078176 Loss = 0.38143155\n",
            "251 Training accuracy = 0.8110749 Loss = 0.3809106\n",
            "252 Training accuracy = 0.8127036 Loss = 0.38038793\n",
            "253 Training accuracy = 0.81433225 Loss = 0.37986347\n",
            "254 Training accuracy = 0.8159609 Loss = 0.3793374\n",
            "255 Training accuracy = 0.8175896 Loss = 0.3788097\n",
            "256 Training accuracy = 0.8159609 Loss = 0.37828025\n",
            "257 Training accuracy = 0.81433225 Loss = 0.37774906\n",
            "258 Training accuracy = 0.81433225 Loss = 0.3772158\n",
            "259 Training accuracy = 0.81433225 Loss = 0.3766803\n",
            "260 Training accuracy = 0.8175896 Loss = 0.37614217\n",
            "261 Training accuracy = 0.82247555 Loss = 0.37560108\n",
            "262 Training accuracy = 0.8273616 Loss = 0.37505668\n",
            "263 Training accuracy = 0.8273616 Loss = 0.3745085\n",
            "264 Training accuracy = 0.8273616 Loss = 0.37395635\n",
            "265 Training accuracy = 0.8289902 Loss = 0.37339985\n",
            "266 Training accuracy = 0.8273616 Loss = 0.37283888\n",
            "267 Training accuracy = 0.8273616 Loss = 0.37227353\n",
            "268 Training accuracy = 0.8273616 Loss = 0.3717038\n",
            "269 Training accuracy = 0.8273616 Loss = 0.37112984\n",
            "270 Training accuracy = 0.8273616 Loss = 0.37055203\n",
            "271 Training accuracy = 0.8273616 Loss = 0.36997068\n",
            "272 Training accuracy = 0.8273616 Loss = 0.36938623\n",
            "273 Training accuracy = 0.8273616 Loss = 0.36879903\n",
            "274 Training accuracy = 0.8289902 Loss = 0.36820912\n",
            "275 Training accuracy = 0.8306189 Loss = 0.36761677\n",
            "276 Training accuracy = 0.83224756 Loss = 0.367022\n",
            "277 Training accuracy = 0.83224756 Loss = 0.36642456\n",
            "278 Training accuracy = 0.83224756 Loss = 0.3658242\n",
            "279 Training accuracy = 0.83224756 Loss = 0.3652205\n",
            "280 Training accuracy = 0.83224756 Loss = 0.36461312\n",
            "281 Training accuracy = 0.8355049 Loss = 0.36400154\n",
            "282 Training accuracy = 0.8338762 Loss = 0.36338526\n",
            "283 Training accuracy = 0.8371335 Loss = 0.3627637\n",
            "284 Training accuracy = 0.8371335 Loss = 0.3621363\n",
            "285 Training accuracy = 0.8338762 Loss = 0.36150235\n",
            "286 Training accuracy = 0.83224756 Loss = 0.3608613\n",
            "287 Training accuracy = 0.83224756 Loss = 0.3602122\n",
            "288 Training accuracy = 0.83224756 Loss = 0.35955438\n",
            "289 Training accuracy = 0.83224756 Loss = 0.35888702\n",
            "290 Training accuracy = 0.83224756 Loss = 0.35820934\n",
            "291 Training accuracy = 0.83224756 Loss = 0.35752055\n",
            "292 Training accuracy = 0.83224756 Loss = 0.35681993\n",
            "293 Training accuracy = 0.83224756 Loss = 0.35610682\n",
            "294 Training accuracy = 0.8306189 Loss = 0.35538056\n",
            "295 Training accuracy = 0.8306189 Loss = 0.35464066\n",
            "296 Training accuracy = 0.8306189 Loss = 0.35388654\n",
            "297 Training accuracy = 0.8306189 Loss = 0.35311773\n",
            "298 Training accuracy = 0.8306189 Loss = 0.35233375\n",
            "299 Training accuracy = 0.83224756 Loss = 0.35153416\n",
            "300 Training accuracy = 0.83224756 Loss = 0.35071856\n",
            "301 Training accuracy = 0.83224756 Loss = 0.34988636\n",
            "302 Training accuracy = 0.8306189 Loss = 0.34903708\n",
            "303 Training accuracy = 0.8338762 Loss = 0.34817004\n",
            "304 Training accuracy = 0.8355049 Loss = 0.34728435\n",
            "305 Training accuracy = 0.8371335 Loss = 0.34637898\n",
            "306 Training accuracy = 0.84039086 Loss = 0.34545264\n",
            "307 Training accuracy = 0.84201956 Loss = 0.34450367\n",
            "308 Training accuracy = 0.8436482 Loss = 0.34353027\n",
            "309 Training accuracy = 0.8436482 Loss = 0.34253016\n",
            "310 Training accuracy = 0.8436482 Loss = 0.34150103\n",
            "311 Training accuracy = 0.8469055 Loss = 0.34044024\n",
            "312 Training accuracy = 0.8485342 Loss = 0.33934534\n",
            "313 Training accuracy = 0.8485342 Loss = 0.3382143\n",
            "314 Training accuracy = 0.8469055 Loss = 0.33704633\n",
            "315 Training accuracy = 0.8452769 Loss = 0.33584207\n",
            "316 Training accuracy = 0.8469055 Loss = 0.33460394\n",
            "317 Training accuracy = 0.8469055 Loss = 0.3333355\n",
            "318 Training accuracy = 0.8485342 Loss = 0.3320404\n",
            "319 Training accuracy = 0.8485342 Loss = 0.33072123\n",
            "320 Training accuracy = 0.8485342 Loss = 0.32938015\n",
            "321 Training accuracy = 0.8469055 Loss = 0.32801884\n",
            "322 Training accuracy = 0.8469055 Loss = 0.32663944\n",
            "323 Training accuracy = 0.85016286 Loss = 0.32524487\n",
            "324 Training accuracy = 0.85016286 Loss = 0.32383886\n",
            "325 Training accuracy = 0.85179156 Loss = 0.32242584\n",
            "326 Training accuracy = 0.85179156 Loss = 0.32100973\n",
            "327 Training accuracy = 0.8534202 Loss = 0.3195941\n",
            "328 Training accuracy = 0.8485342 Loss = 0.3181813\n",
            "329 Training accuracy = 0.8485342 Loss = 0.31677336\n",
            "330 Training accuracy = 0.8534202 Loss = 0.31537133\n",
            "331 Training accuracy = 0.8485342 Loss = 0.31397623\n",
            "332 Training accuracy = 0.8485342 Loss = 0.31258893\n",
            "333 Training accuracy = 0.8485342 Loss = 0.31121013\n",
            "334 Training accuracy = 0.8485342 Loss = 0.30984017\n",
            "335 Training accuracy = 0.8469055 Loss = 0.30847904\n",
            "336 Training accuracy = 0.8469055 Loss = 0.3071257\n",
            "337 Training accuracy = 0.85016286 Loss = 0.3057785\n",
            "338 Training accuracy = 0.85016286 Loss = 0.30443507\n",
            "339 Training accuracy = 0.85179156 Loss = 0.30309328\n",
            "340 Training accuracy = 0.85179156 Loss = 0.3017514\n",
            "341 Training accuracy = 0.85504884 Loss = 0.3004093\n",
            "342 Training accuracy = 0.85504884 Loss = 0.29906812\n",
            "343 Training accuracy = 0.85179156 Loss = 0.2977305\n",
            "344 Training accuracy = 0.85016286 Loss = 0.29639998\n",
            "345 Training accuracy = 0.85179156 Loss = 0.29508054\n",
            "346 Training accuracy = 0.85667753 Loss = 0.29377574\n",
            "347 Training accuracy = 0.85504884 Loss = 0.29248857\n",
            "348 Training accuracy = 0.85667753 Loss = 0.29122123\n",
            "349 Training accuracy = 0.85504884 Loss = 0.28997493\n",
            "350 Training accuracy = 0.85993487 Loss = 0.28875044\n",
            "351 Training accuracy = 0.85993487 Loss = 0.28754807\n",
            "352 Training accuracy = 0.85993487 Loss = 0.28636754\n",
            "353 Training accuracy = 0.86482084 Loss = 0.2852084\n",
            "354 Training accuracy = 0.86644953 Loss = 0.28406987\n",
            "355 Training accuracy = 0.8680782 Loss = 0.28295052\n",
            "356 Training accuracy = 0.86644953 Loss = 0.28184906\n",
            "357 Training accuracy = 0.86644953 Loss = 0.28076404\n",
            "358 Training accuracy = 0.86644953 Loss = 0.27969432\n",
            "359 Training accuracy = 0.86482084 Loss = 0.27863878\n",
            "360 Training accuracy = 0.8631922 Loss = 0.27759683\n",
            "361 Training accuracy = 0.8631922 Loss = 0.27656817\n",
            "362 Training accuracy = 0.8631922 Loss = 0.27555272\n",
            "363 Training accuracy = 0.8631922 Loss = 0.27455133\n",
            "364 Training accuracy = 0.86482084 Loss = 0.27356946\n",
            "365 Training accuracy = 0.86644953 Loss = 0.27263278\n",
            "366 Training accuracy = 0.8713355 Loss = 0.27183726\n",
            "367 Training accuracy = 0.87459284 Loss = 0.27139163\n",
            "368 Training accuracy = 0.86970687 Loss = 0.2706839\n",
            "369 Training accuracy = 0.87296414 Loss = 0.26911917\n",
            "370 Training accuracy = 0.87296414 Loss = 0.2683236\n",
            "371 Training accuracy = 0.87296414 Loss = 0.2678781\n",
            "372 Training accuracy = 0.8762215 Loss = 0.26654726\n",
            "373 Training accuracy = 0.8762215 Loss = 0.2659436\n",
            "374 Training accuracy = 0.87459284 Loss = 0.2652238\n",
            "375 Training accuracy = 0.8811075 Loss = 0.264117\n",
            "376 Training accuracy = 0.8762215 Loss = 0.26364142\n",
            "377 Training accuracy = 0.8876222 Loss = 0.26264977\n",
            "378 Training accuracy = 0.8859935 Loss = 0.2619031\n",
            "379 Training accuracy = 0.8778502 Loss = 0.26124597\n",
            "380 Training accuracy = 0.88436484 Loss = 0.2602902\n",
            "381 Training accuracy = 0.8892508 Loss = 0.25972572\n",
            "382 Training accuracy = 0.88273615 Loss = 0.25885192\n",
            "383 Training accuracy = 0.8859935 Loss = 0.25814632\n",
            "384 Training accuracy = 0.89087945 Loss = 0.25746465\n",
            "385 Training accuracy = 0.8876222 Loss = 0.25663644\n",
            "386 Training accuracy = 0.88436484 Loss = 0.25603178\n",
            "387 Training accuracy = 0.8892508 Loss = 0.2552333\n",
            "388 Training accuracy = 0.89087945 Loss = 0.25456777\n",
            "389 Training accuracy = 0.8876222 Loss = 0.253882\n",
            "390 Training accuracy = 0.89250815 Loss = 0.25313902\n",
            "391 Training accuracy = 0.89087945 Loss = 0.25251922\n",
            "392 Training accuracy = 0.89087945 Loss = 0.25178042\n",
            "393 Training accuracy = 0.8892508 Loss = 0.2511363\n",
            "394 Training accuracy = 0.89087945 Loss = 0.25046405\n",
            "395 Training accuracy = 0.89250815 Loss = 0.24977052\n",
            "396 Training accuracy = 0.8876222 Loss = 0.24914414\n",
            "397 Training accuracy = 0.89250815 Loss = 0.248447\n",
            "398 Training accuracy = 0.89250815 Loss = 0.2478094\n",
            "399 Training accuracy = 0.89250815 Loss = 0.24715167\n",
            "400 Training accuracy = 0.89250815 Loss = 0.24648319\n",
            "401 Training accuracy = 0.8941368 Loss = 0.2458553\n",
            "402 Training accuracy = 0.89250815 Loss = 0.24518603\n",
            "403 Training accuracy = 0.89250815 Loss = 0.24455078\n",
            "404 Training accuracy = 0.8941368 Loss = 0.24390894\n",
            "405 Training accuracy = 0.8941368 Loss = 0.24325573\n",
            "406 Training accuracy = 0.89250815 Loss = 0.24262986\n",
            "407 Training accuracy = 0.8941368 Loss = 0.24197923\n",
            "408 Training accuracy = 0.8957655 Loss = 0.24134247\n",
            "409 Training accuracy = 0.8957655 Loss = 0.24070445\n",
            "410 Training accuracy = 0.8973941 Loss = 0.2400497\n",
            "411 Training accuracy = 0.8973941 Loss = 0.23940602\n",
            "412 Training accuracy = 0.8990228 Loss = 0.23874196\n",
            "413 Training accuracy = 0.8990228 Loss = 0.23807128\n",
            "414 Training accuracy = 0.90065145 Loss = 0.23739688\n",
            "415 Training accuracy = 0.90065145 Loss = 0.23670134\n",
            "416 Training accuracy = 0.90065145 Loss = 0.23600538\n",
            "417 Training accuracy = 0.90065145 Loss = 0.23529823\n",
            "418 Training accuracy = 0.90065145 Loss = 0.2345805\n",
            "419 Training accuracy = 0.8990228 Loss = 0.23386413\n",
            "420 Training accuracy = 0.8990228 Loss = 0.23313752\n",
            "421 Training accuracy = 0.8990228 Loss = 0.23240955\n",
            "422 Training accuracy = 0.8990228 Loss = 0.23168103\n",
            "423 Training accuracy = 0.8990228 Loss = 0.2309458\n",
            "424 Training accuracy = 0.8990228 Loss = 0.23021238\n",
            "425 Training accuracy = 0.90228015 Loss = 0.22947659\n",
            "426 Training accuracy = 0.90228015 Loss = 0.2287387\n",
            "427 Training accuracy = 0.90065145 Loss = 0.22800505\n",
            "428 Training accuracy = 0.90228015 Loss = 0.22727114\n",
            "429 Training accuracy = 0.9039088 Loss = 0.22654018\n",
            "430 Training accuracy = 0.9039088 Loss = 0.225814\n",
            "431 Training accuracy = 0.9039088 Loss = 0.22508895\n",
            "432 Training accuracy = 0.9039088 Loss = 0.22436848\n",
            "433 Training accuracy = 0.90228015 Loss = 0.22365247\n",
            "434 Training accuracy = 0.90228015 Loss = 0.22293864\n",
            "435 Training accuracy = 0.90228015 Loss = 0.22222963\n",
            "436 Training accuracy = 0.90228015 Loss = 0.22152355\n",
            "437 Training accuracy = 0.90228015 Loss = 0.22081925\n",
            "438 Training accuracy = 0.9039088 Loss = 0.22011815\n",
            "439 Training accuracy = 0.90228015 Loss = 0.2194186\n",
            "440 Training accuracy = 0.9039088 Loss = 0.21872033\n",
            "441 Training accuracy = 0.9039088 Loss = 0.21802449\n",
            "442 Training accuracy = 0.9039088 Loss = 0.21733004\n",
            "443 Training accuracy = 0.9039088 Loss = 0.21663715\n",
            "444 Training accuracy = 0.90228015 Loss = 0.21594673\n",
            "445 Training accuracy = 0.90228015 Loss = 0.215258\n",
            "446 Training accuracy = 0.90228015 Loss = 0.2145713\n",
            "447 Training accuracy = 0.90228015 Loss = 0.2138872\n",
            "448 Training accuracy = 0.90228015 Loss = 0.21320504\n",
            "449 Training accuracy = 0.90228015 Loss = 0.21252497\n",
            "450 Training accuracy = 0.90228015 Loss = 0.21184714\n",
            "451 Training accuracy = 0.90065145 Loss = 0.21117106\n",
            "452 Training accuracy = 0.90065145 Loss = 0.21049644\n",
            "453 Training accuracy = 0.90065145 Loss = 0.20982327\n",
            "454 Training accuracy = 0.90228015 Loss = 0.20915078\n",
            "455 Training accuracy = 0.90065145 Loss = 0.2084785\n",
            "456 Training accuracy = 0.9039088 Loss = 0.20780602\n",
            "457 Training accuracy = 0.9055375 Loss = 0.20713244\n",
            "458 Training accuracy = 0.9055375 Loss = 0.20645691\n",
            "459 Training accuracy = 0.9055375 Loss = 0.20577872\n",
            "460 Training accuracy = 0.9055375 Loss = 0.20509678\n",
            "461 Training accuracy = 0.9136808 Loss = 0.20441018\n",
            "462 Training accuracy = 0.9153094 Loss = 0.20371826\n",
            "463 Training accuracy = 0.9169381 Loss = 0.20302013\n",
            "464 Training accuracy = 0.9153094 Loss = 0.20231509\n",
            "465 Training accuracy = 0.91856676 Loss = 0.20160244\n",
            "466 Training accuracy = 0.91856676 Loss = 0.20088144\n",
            "467 Training accuracy = 0.91856676 Loss = 0.20015101\n",
            "468 Training accuracy = 0.91856676 Loss = 0.19941013\n",
            "469 Training accuracy = 0.92019546 Loss = 0.19865757\n",
            "470 Training accuracy = 0.92019546 Loss = 0.19789211\n",
            "471 Training accuracy = 0.9218241 Loss = 0.19711225\n",
            "472 Training accuracy = 0.9218241 Loss = 0.1963169\n",
            "473 Training accuracy = 0.92019546 Loss = 0.19550484\n",
            "474 Training accuracy = 0.92019546 Loss = 0.19467512\n",
            "475 Training accuracy = 0.91856676 Loss = 0.19382723\n",
            "476 Training accuracy = 0.91856676 Loss = 0.19296072\n",
            "477 Training accuracy = 0.91856676 Loss = 0.19207577\n",
            "478 Training accuracy = 0.92019546 Loss = 0.19117264\n",
            "479 Training accuracy = 0.92019546 Loss = 0.19025213\n",
            "480 Training accuracy = 0.92019546 Loss = 0.1893153\n",
            "481 Training accuracy = 0.92019546 Loss = 0.18836348\n",
            "482 Training accuracy = 0.92019546 Loss = 0.18739812\n",
            "483 Training accuracy = 0.9218241 Loss = 0.18642114\n",
            "484 Training accuracy = 0.92019546 Loss = 0.1854345\n",
            "485 Training accuracy = 0.9218241 Loss = 0.18444045\n",
            "486 Training accuracy = 0.9218241 Loss = 0.1834415\n",
            "487 Training accuracy = 0.9218241 Loss = 0.18244036\n",
            "488 Training accuracy = 0.9218241 Loss = 0.1814399\n",
            "489 Training accuracy = 0.9234528 Loss = 0.180443\n",
            "490 Training accuracy = 0.9234528 Loss = 0.1794526\n",
            "491 Training accuracy = 0.9218241 Loss = 0.17847142\n",
            "492 Training accuracy = 0.9218241 Loss = 0.17750177\n",
            "493 Training accuracy = 0.92508143 Loss = 0.17654535\n",
            "494 Training accuracy = 0.92508143 Loss = 0.17560303\n",
            "495 Training accuracy = 0.92508143 Loss = 0.17467505\n",
            "496 Training accuracy = 0.92671007 Loss = 0.17376076\n",
            "497 Training accuracy = 0.92671007 Loss = 0.17285885\n",
            "498 Training accuracy = 0.92833877 Loss = 0.1719681\n",
            "499 Training accuracy = 0.92833877 Loss = 0.1710872\n"
          ],
          "name": "stdout"
        }
      ]
    },
    {
      "cell_type": "code",
      "metadata": {
        "id": "91MNdOv9ROGp",
        "colab_type": "code",
        "outputId": "934f45d0-bd9d-426d-c1a9-a59a6c632099",
        "colab": {
          "base_uri": "https://localhost:8080/",
          "height": 34
        }
      },
      "source": [
        "# Step 6: Evaluation\n",
        "test_data = {X: X_test, y: y_test1}\n",
        "print(\"Testing Accuracy = \", sess.run(accuracy, feed_dict = test_data))"
      ],
      "execution_count": 0,
      "outputs": [
        {
          "output_type": "stream",
          "text": [
            "Testing Accuracy =  0.7012987\n"
          ],
          "name": "stdout"
        }
      ]
    },
    {
      "cell_type": "code",
      "metadata": {
        "id": "4C5QXF1jRUVB",
        "colab_type": "code",
        "colab": {}
      },
      "source": [
        ""
      ],
      "execution_count": 0,
      "outputs": []
    }
  ]
}